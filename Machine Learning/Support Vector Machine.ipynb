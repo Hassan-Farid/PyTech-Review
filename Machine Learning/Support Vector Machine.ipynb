{
 "cells": [
  {
   "cell_type": "code",
   "execution_count": 1,
   "metadata": {
    "executionInfo": {
     "elapsed": 4344,
     "status": "ok",
     "timestamp": 1619006884684,
     "user": {
      "displayName": "Hassan Farid",
      "photoUrl": "",
      "userId": "05321934208926622062"
     },
     "user_tz": -300
    },
    "id": "GAPUM8u9TPOr"
   },
   "outputs": [],
   "source": [
    "import numpy as np\n",
    "from sklearn import datasets\n",
    "from sklearn.pipeline import Pipeline\n",
    "from sklearn.preprocessing import StandardScaler, PolynomialFeatures\n",
    "from sklearn.svm import LinearSVC, SVC, LinearSVR, SVR"
   ]
  },
  {
   "cell_type": "markdown",
   "metadata": {
    "id": "b055pgH6UXcM"
   },
   "source": [
    "# Linear SVM Classification"
   ]
  },
  {
   "cell_type": "code",
   "execution_count": 5,
   "metadata": {
    "executionInfo": {
     "elapsed": 1175,
     "status": "ok",
     "timestamp": 1619007326474,
     "user": {
      "displayName": "Hassan Farid",
      "photoUrl": "",
      "userId": "05321934208926622062"
     },
     "user_tz": -300
    },
    "id": "jsjOnxlpVEqh"
   },
   "outputs": [],
   "source": [
    "#Defining classification conditions for the Linear SVC\n",
    "iris = datasets.load_iris()\n",
    "\n",
    "X = iris.data[:, (2,3)] #Taking petal length and petal width as feature values\n",
    "y = (iris.target == 2).astype(np.int64) #Checking for Iris-Virginica"
   ]
  },
  {
   "cell_type": "code",
   "execution_count": 6,
   "metadata": {
    "executionInfo": {
     "elapsed": 644,
     "status": "ok",
     "timestamp": 1619007328995,
     "user": {
      "displayName": "Hassan Farid",
      "photoUrl": "",
      "userId": "05321934208926622062"
     },
     "user_tz": -300
    },
    "id": "B_SThJ1fWNQS"
   },
   "outputs": [],
   "source": [
    "#Creating a pipeline for SVM linear classifier\n",
    "svm_classifier = Pipeline((\n",
    "    (\"scaler\", StandardScaler()),\n",
    "    (\"linear_svc\", LinearSVC(C=1, loss=\"hinge\"))\n",
    "))"
   ]
  },
  {
   "cell_type": "code",
   "execution_count": 7,
   "metadata": {
    "colab": {
     "base_uri": "https://localhost:8080/"
    },
    "executionInfo": {
     "elapsed": 991,
     "status": "ok",
     "timestamp": 1619007333438,
     "user": {
      "displayName": "Hassan Farid",
      "photoUrl": "",
      "userId": "05321934208926622062"
     },
     "user_tz": -300
    },
    "id": "JxLluiCQWn_n",
    "outputId": "962cf549-dfed-4bb0-d618-3f8d64223d97"
   },
   "outputs": [
    {
     "data": {
      "text/plain": [
       "array([1])"
      ]
     },
     "execution_count": 7,
     "metadata": {
      "tags": []
     },
     "output_type": "execute_result"
    }
   ],
   "source": [
    "#Training the svm_classifier and predicting results from it\n",
    "svm_classifier.fit(X, y)\n",
    "svm_classifier.predict([[5.5, 1.7]])"
   ]
  },
  {
   "cell_type": "markdown",
   "metadata": {
    "id": "F5joMY32XW5r"
   },
   "source": [
    "# Non-Linear SVM Classification"
   ]
  },
  {
   "cell_type": "markdown",
   "metadata": {
    "id": "zCn4rYCWXe3s"
   },
   "source": [
    "### Using Linear SVM Classifier with Polynomial Features"
   ]
  },
  {
   "cell_type": "code",
   "execution_count": 8,
   "metadata": {
    "executionInfo": {
     "elapsed": 1025,
     "status": "ok",
     "timestamp": 1619007624665,
     "user": {
      "displayName": "Hassan Farid",
      "photoUrl": "",
      "userId": "05321934208926622062"
     },
     "user_tz": -300
    },
    "id": "LB-1BEdWXZ7N"
   },
   "outputs": [],
   "source": [
    "#Creating polynomial SVM classifier using 3rd degree polynomial features\n",
    "poly_svm_classifier = Pipeline((\n",
    "    (\"poly_features\", PolynomialFeatures(degree=3, include_bias=False)),\n",
    "    (\"scaler\", StandardScaler()),\n",
    "    (\"linear_svc\", LinearSVC(C=10, loss=\"hinge\"))\n",
    "))"
   ]
  },
  {
   "cell_type": "code",
   "execution_count": 9,
   "metadata": {
    "colab": {
     "base_uri": "https://localhost:8080/"
    },
    "executionInfo": {
     "elapsed": 1160,
     "status": "ok",
     "timestamp": 1619007680132,
     "user": {
      "displayName": "Hassan Farid",
      "photoUrl": "",
      "userId": "05321934208926622062"
     },
     "user_tz": -300
    },
    "id": "YvWCw-_pX9hQ",
    "outputId": "a3f8ca68-0918-4a6a-837b-33d880ccf34b"
   },
   "outputs": [
    {
     "data": {
      "text/plain": [
       "array([1])"
      ]
     },
     "execution_count": 9,
     "metadata": {
      "tags": []
     },
     "output_type": "execute_result"
    }
   ],
   "source": [
    "#Training the polynomial svm_classifier and predicting results from it\n",
    "poly_svm_classifier.fit(X, y)\n",
    "poly_svm_classifier.predict([[5.5, 1.7]])"
   ]
  },
  {
   "cell_type": "markdown",
   "metadata": {
    "id": "eTst3wXYYRGB"
   },
   "source": [
    "### Using SVM Classifier with Polynomial Kernel"
   ]
  },
  {
   "cell_type": "code",
   "execution_count": 12,
   "metadata": {
    "executionInfo": {
     "elapsed": 1049,
     "status": "ok",
     "timestamp": 1619007824283,
     "user": {
      "displayName": "Hassan Farid",
      "photoUrl": "",
      "userId": "05321934208926622062"
     },
     "user_tz": -300
    },
    "id": "yG3T3I4bYViR"
   },
   "outputs": [],
   "source": [
    "#Creating polynomial SVM classifier using polynomial kernel\n",
    "poly_kernel_svm_classifier = Pipeline((\n",
    "    (\"scaler\", StandardScaler()),\n",
    "    (\"svm_classifer\", SVC(kernel=\"poly\", degree=3, coef0=1, C=5))\n",
    "))"
   ]
  },
  {
   "cell_type": "code",
   "execution_count": 13,
   "metadata": {
    "colab": {
     "base_uri": "https://localhost:8080/"
    },
    "executionInfo": {
     "elapsed": 945,
     "status": "ok",
     "timestamp": 1619007866636,
     "user": {
      "displayName": "Hassan Farid",
      "photoUrl": "",
      "userId": "05321934208926622062"
     },
     "user_tz": -300
    },
    "id": "15AsZ4XhYuOP",
    "outputId": "fb917ca9-3a2f-4cc0-e92b-1e058dc09ea5"
   },
   "outputs": [
    {
     "data": {
      "text/plain": [
       "array([1])"
      ]
     },
     "execution_count": 13,
     "metadata": {
      "tags": []
     },
     "output_type": "execute_result"
    }
   ],
   "source": [
    "#Training the polynomial svm_classifier and predicting results from it\n",
    "poly_kernel_svm_classifier.fit(X, y)\n",
    "poly_kernel_svm_classifier.predict([[5.5, 1.7]]) "
   ]
  },
  {
   "cell_type": "markdown",
   "metadata": {
    "id": "Rgs6dUzsZYJL"
   },
   "source": [
    "### Using Similarity Function (Gaussian RBF Kernel)"
   ]
  },
  {
   "cell_type": "code",
   "execution_count": 19,
   "metadata": {
    "executionInfo": {
     "elapsed": 1142,
     "status": "ok",
     "timestamp": 1619008252397,
     "user": {
      "displayName": "Hassan Farid",
      "photoUrl": "",
      "userId": "05321934208926622062"
     },
     "user_tz": -300
    },
    "id": "0nHXl6ZOZd6E"
   },
   "outputs": [],
   "source": [
    "#Creating polynomial SVM classifier using Gaussian RBF Kernel\n",
    "rbf_kernel_svm_classifier = Pipeline((\n",
    "    (\"scaler\", StandardScaler()),\n",
    "    (\"svm_classifer\", SVC(kernel=\"rbf\", gamma=5, C=1))\n",
    "))"
   ]
  },
  {
   "cell_type": "code",
   "execution_count": 20,
   "metadata": {
    "colab": {
     "base_uri": "https://localhost:8080/"
    },
    "executionInfo": {
     "elapsed": 1010,
     "status": "ok",
     "timestamp": 1619008253955,
     "user": {
      "displayName": "Hassan Farid",
      "photoUrl": "",
      "userId": "05321934208926622062"
     },
     "user_tz": -300
    },
    "id": "_s2GOu4WZ-cI",
    "outputId": "a50f5889-7b0e-4103-b5dd-2204064a2cf9"
   },
   "outputs": [
    {
     "data": {
      "text/plain": [
       "array([1])"
      ]
     },
     "execution_count": 20,
     "metadata": {
      "tags": []
     },
     "output_type": "execute_result"
    }
   ],
   "source": [
    "#Training the polynomial rbf svm_classifier and predicting results from it\n",
    "rbf_kernel_svm_classifier.fit(X, y)\n",
    "rbf_kernel_svm_classifier.predict([[5.5, 1.7]])"
   ]
  },
  {
   "cell_type": "markdown",
   "metadata": {
    "id": "iIUHy58ia_JO"
   },
   "source": [
    "# Linear SVM Regression"
   ]
  },
  {
   "cell_type": "code",
   "execution_count": 32,
   "metadata": {
    "executionInfo": {
     "elapsed": 2755,
     "status": "ok",
     "timestamp": 1619005495381,
     "user": {
      "displayName": "Hassan Farid",
      "photoUrl": "",
      "userId": "05321934208926622062"
     },
     "user_tz": -300
    },
    "id": "nzch3Gx-bAuR"
   },
   "outputs": [],
   "source": [
    "#Creating a pipeline for SVM Regressor\n",
    "svm_regressor = Pipeline((\n",
    "    (\"scaler\", StandardScaler()),\n",
    "    (\"linear_svc\", LinearSVR(epsilon=0.1))\n",
    "))"
   ]
  },
  {
   "cell_type": "code",
   "execution_count": 33,
   "metadata": {
    "colab": {
     "base_uri": "https://localhost:8080/"
    },
    "executionInfo": {
     "elapsed": 1169,
     "status": "ok",
     "timestamp": 1619005497255,
     "user": {
      "displayName": "Hassan Farid",
      "photoUrl": "",
      "userId": "05321934208926622062"
     },
     "user_tz": -300
    },
    "id": "v4H7VSuabs-Z",
    "outputId": "c9681d29-d994-447b-cd65-7b0f10fafb3b"
   },
   "outputs": [
    {
     "data": {
      "text/plain": [
       "array([0.60559563])"
      ]
     },
     "execution_count": 33,
     "metadata": {
      "tags": []
     },
     "output_type": "execute_result"
    }
   ],
   "source": [
    "#Training the Linear SVM Regressor and predicting results from it\n",
    "svm_regressor.fit(X,y)\n",
    "svm_regressor.predict([[5.5, 1.7]])"
   ]
  },
  {
   "cell_type": "markdown",
   "metadata": {
    "id": "nI9jBRzaOsCV"
   },
   "source": [
    "# Non-Linear SVM Regression"
   ]
  },
  {
   "cell_type": "code",
   "execution_count": 28,
   "metadata": {
    "executionInfo": {
     "elapsed": 1457,
     "status": "ok",
     "timestamp": 1619005403069,
     "user": {
      "displayName": "Hassan Farid",
      "photoUrl": "",
      "userId": "05321934208926622062"
     },
     "user_tz": -300
    },
    "id": "WDNW-oV0O4jV"
   },
   "outputs": [],
   "source": [
    "#Creating a pipeline for Polynomial SVM Regressor\n",
    "poly_svm_regressor = Pipeline((\n",
    "    (\"scaler\", StandardScaler()),\n",
    "    (\"svr\", SVR(kernel=\"poly\", degree=2, C=100, epsilon=0.1))\n",
    "))"
   ]
  },
  {
   "cell_type": "code",
   "execution_count": 29,
   "metadata": {
    "colab": {
     "base_uri": "https://localhost:8080/"
    },
    "executionInfo": {
     "elapsed": 967,
     "status": "ok",
     "timestamp": 1619005443494,
     "user": {
      "displayName": "Hassan Farid",
      "photoUrl": "",
      "userId": "05321934208926622062"
     },
     "user_tz": -300
    },
    "id": "zdYpJV-WPfSY",
    "outputId": "c0616426-7656-4def-c33e-ecf0cfb0ef37"
   },
   "outputs": [
    {
     "data": {
      "text/plain": [
       "array([0.17935854])"
      ]
     },
     "execution_count": 29,
     "metadata": {
      "tags": []
     },
     "output_type": "execute_result"
    }
   ],
   "source": [
    "#Training the Polynomial SVM Regressor and predicting results from it\n",
    "poly_svm_regressor.fit(X, y)\n",
    "poly_svm_regressor.predict([[5.5, 1.7]])"
   ]
  }
 ],
 "metadata": {
  "colab": {
   "authorship_tag": "ABX9TyOCLioc7jq1+sR+an1UVpHU",
   "collapsed_sections": [],
   "name": "Support Vector Machine.ipynb",
   "provenance": []
  },
  "kernelspec": {
   "display_name": "Python 3",
   "language": "python",
   "name": "python3"
  },
  "language_info": {
   "codemirror_mode": {
    "name": "ipython",
    "version": 3
   },
   "file_extension": ".py",
   "mimetype": "text/x-python",
   "name": "python",
   "nbconvert_exporter": "python",
   "pygments_lexer": "ipython3",
   "version": "3.8.2"
  }
 },
 "nbformat": 4,
 "nbformat_minor": 1
}
