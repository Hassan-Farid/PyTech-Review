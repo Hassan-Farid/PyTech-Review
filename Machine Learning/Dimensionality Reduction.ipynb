{
 "cells": [
  {
   "cell_type": "code",
   "execution_count": 1,
   "metadata": {
    "id": "yfttXGIUgwww"
   },
   "outputs": [],
   "source": [
    "import numpy as np\n",
    "from sklearn.decomposition import PCA, IncrementalPCA, KernelPCA\n",
    "from sklearn.model_selection import GridSearchCV\n",
    "from sklearn.linear_model import LogisticRegression\n",
    "from sklearn.pipeline import Pipeline\n",
    "from sklearn.metrics import mean_squared_error\n",
    "from sklearn.manifold import LocallyLinearEmbedding\n",
    "from sklearn.datasets import fetch_openml\n",
    "import matplotlib.pyplot as plt"
   ]
  },
  {
   "cell_type": "code",
   "execution_count": 2,
   "metadata": {
    "id": "rjIUUYYsoO9O"
   },
   "outputs": [],
   "source": [
    "#Using the MNIST dataset for dimensionality reduction\n",
    "mnist = fetch_openml('mnist_784')\n",
    "\n",
    "X, y = mnist['data'], mnist['target']"
   ]
  },
  {
   "cell_type": "code",
   "execution_count": 3,
   "metadata": {
    "id": "Ccb1q7_ubx46"
   },
   "outputs": [],
   "source": [
    "#Creating training and testing dataset and shuffling them \n",
    "X_train, X_test, y_train, y_test = X[:60000], X[60000:], y[:60000], y[60000:]\n",
    "shuffle_index = np.random.permutation(60000)\n",
    "X_train, y_train = X_train[shuffle_index], y_train[shuffle_index]"
   ]
  },
  {
   "cell_type": "markdown",
   "metadata": {
    "id": "JJLGlTgwnjXQ"
   },
   "source": [
    "# Principal Component Analysis (PCA)"
   ]
  },
  {
   "cell_type": "code",
   "execution_count": 4,
   "metadata": {
    "colab": {
     "base_uri": "https://localhost:8080/"
    },
    "executionInfo": {
     "elapsed": 29324,
     "status": "ok",
     "timestamp": 1619378781300,
     "user": {
      "displayName": "Hassan Farid",
      "photoUrl": "",
      "userId": "05321934208926622062"
     },
     "user_tz": -300
    },
    "id": "hiRs5EmsnmT7",
    "outputId": "fee61bac-1921-41c4-d616-b1c82f7b1556"
   },
   "outputs": [
    {
     "data": {
      "text/plain": [
       "PCA(n_components=2)"
      ]
     },
     "execution_count": 4,
     "metadata": {},
     "output_type": "execute_result"
    }
   ],
   "source": [
    "#Computing PCA using SVD Decomposition\n",
    "pca = PCA(n_components = 2)\n",
    "pca.fit(X_train)"
   ]
  },
  {
   "cell_type": "code",
   "execution_count": 5,
   "metadata": {
    "colab": {
     "base_uri": "https://localhost:8080/"
    },
    "executionInfo": {
     "elapsed": 29290,
     "status": "ok",
     "timestamp": 1619378781303,
     "user": {
      "displayName": "Hassan Farid",
      "photoUrl": "",
      "userId": "05321934208926622062"
     },
     "user_tz": -300
    },
    "id": "CTPtXDpRctYT",
    "outputId": "dde25671-83f6-4acd-a8e1-d80e26082d33"
   },
   "outputs": [
    {
     "data": {
      "text/plain": [
       "1"
      ]
     },
     "execution_count": 5,
     "metadata": {},
     "output_type": "execute_result"
    }
   ],
   "source": [
    "#Viewing the min number of dimensions needed to get 95% variance\n",
    "cumsum = np.cumsum(pca.explained_variance_ratio_)\n",
    "d = np.argmax(cumsum >= 0.95) + 1\n",
    "d"
   ]
  },
  {
   "cell_type": "code",
   "execution_count": 6,
   "metadata": {
    "id": "WuP0MfZad4wh"
   },
   "outputs": [],
   "source": [
    "#Computing PCA for 1D since its need to get 95% variance\n",
    "pca = PCA(n_components = 0.95)\n",
    "X_reduced = pca.fit_transform(X_train)"
   ]
  },
  {
   "cell_type": "code",
   "execution_count": 7,
   "metadata": {
    "colab": {
     "base_uri": "https://localhost:8080/"
    },
    "executionInfo": {
     "elapsed": 41791,
     "status": "ok",
     "timestamp": 1619378793865,
     "user": {
      "displayName": "Hassan Farid",
      "photoUrl": "",
      "userId": "05321934208926622062"
     },
     "user_tz": -300
    },
    "id": "HkBsc3gGeQKX",
    "outputId": "6d1683dd-6d76-49c3-947b-fe5b7c2b39ad"
   },
   "outputs": [
    {
     "data": {
      "text/plain": [
       "154"
      ]
     },
     "execution_count": 7,
     "metadata": {},
     "output_type": "execute_result"
    }
   ],
   "source": [
    "#Viewing the number of dimensions in the new fitted model\n",
    "len(pca.explained_variance_ratio_)"
   ]
  },
  {
   "cell_type": "code",
   "execution_count": 8,
   "metadata": {
    "colab": {
     "base_uri": "https://localhost:8080/"
    },
    "executionInfo": {
     "elapsed": 42266,
     "status": "ok",
     "timestamp": 1619378794373,
     "user": {
      "displayName": "Hassan Farid",
      "photoUrl": "",
      "userId": "05321934208926622062"
     },
     "user_tz": -300
    },
    "id": "a8AIR3CooYBn",
    "outputId": "2e8858bb-cfb0-443f-b9ab-a7f84f5ae7b9"
   },
   "outputs": [
    {
     "data": {
      "text/plain": [
       "217.79366111265557"
      ]
     },
     "execution_count": 8,
     "metadata": {},
     "output_type": "execute_result"
    }
   ],
   "source": [
    "#Viewing the reconstruction error for the model\n",
    "X_recovered = pca.inverse_transform(X_reduced)\n",
    "\n",
    "mean_squared_error(X_train, X_recovered)"
   ]
  },
  {
   "cell_type": "markdown",
   "metadata": {
    "id": "X2Tz0g2bo7u4"
   },
   "source": [
    "# Incremental PCA"
   ]
  },
  {
   "cell_type": "code",
   "execution_count": 9,
   "metadata": {
    "id": "8txDumWLo-Tk"
   },
   "outputs": [],
   "source": [
    "#Splitting the MNIST dataset into 100 mini-batches for incremental learning and using Incremental PCA Model\n",
    "n_batches = 100\n",
    "\n",
    "pca = IncrementalPCA(n_components = 154) #Since we got dimensionality reduction to 154 for PCA\n",
    "for X_batch in np.array_split(X_train, n_batches):\n",
    "  pca.partial_fit(X_batch)  "
   ]
  },
  {
   "cell_type": "code",
   "execution_count": null,
   "metadata": {
    "id": "KPr6o1qEcTQZ"
   },
   "outputs": [],
   "source": [
    "#Reducing dimensions of the dataset\n",
    "X_reduced = pca.fit_transform(X_train)"
   ]
  },
  {
   "cell_type": "markdown",
   "metadata": {
    "id": "1WDPl_U-czqt"
   },
   "source": [
    "# Randomized PCA"
   ]
  },
  {
   "cell_type": "code",
   "execution_count": null,
   "metadata": {
    "id": "OirsnhgYcbib"
   },
   "outputs": [],
   "source": [
    "#Using the PCA model with randomized approximation of n principal components\n",
    "pca = PCA(n_components = 154, svd_solver=\"randomized\")\n",
    "X_reduced = pca.fit_transform(X_train) "
   ]
  },
  {
   "cell_type": "code",
   "execution_count": null,
   "metadata": {
    "id": "fhB2LohE1Xub"
   },
   "outputs": [],
   "source": [
    "#Choosing the best Kernel for the reduction using Grid Search Cross Validation\n",
    "classifier = Pipeline([\n",
    "          (\"kpca\", KernelPCA(n_components=2)),\n",
    "          (\"log_reg\", LogisticRegression())\n",
    "])\n",
    "\n",
    "param_grid = [{\n",
    "        \"kpca__gamma\": np.linspace(0.03, 0.05, 10),\n",
    "        \"kpca__kernel\": [\"rbf\", \"sigmoid\"]\n",
    "}]\n",
    "\n",
    "grid_search = GridSearchCV(clf, param_grid, cv=3)\n",
    "grid_search.fit(X_train, y_train)"
   ]
  },
  {
   "cell_type": "code",
   "execution_count": null,
   "metadata": {
    "id": "IUDgPI4Q2YJ0"
   },
   "outputs": [],
   "source": [
    "#Viewing the best grid parameters\n",
    "grid_search.best_params_"
   ]
  },
  {
   "cell_type": "markdown",
   "metadata": {
    "id": "zE9YLFMGXcT7"
   },
   "source": [
    "# Locally Linear Embedding (LLE)"
   ]
  },
  {
   "cell_type": "code",
   "execution_count": null,
   "metadata": {
    "colab": {
     "base_uri": "https://localhost:8080/"
    },
    "executionInfo": {
     "elapsed": 110575,
     "status": "ok",
     "timestamp": 1619378862783,
     "user": {
      "displayName": "Hassan Farid",
      "photoUrl": "",
      "userId": "05321934208926622062"
     },
     "user_tz": -300
    },
    "id": "Bo1p6TCkfjzF",
    "outputId": "93817e54-14d5-4109-c0a7-bc4da6c5b899"
   },
   "outputs": [],
   "source": [
    "#Using Local Linear Embedding to reduce dimensions\n",
    "lle = LocallyLinearEmbedding(n_components=2, n_neighbors=10)\n",
    "X_reduced = lle.fit_transform(X_train)"
   ]
  }
 ],
 "metadata": {
  "colab": {
   "authorship_tag": "ABX9TyNibc5V4hhuS/rMWtL0ejTW",
   "collapsed_sections": [],
   "name": "Dimensionality Reduction.ipynb",
   "provenance": []
  },
  "kernelspec": {
   "display_name": "Python 3",
   "language": "python",
   "name": "python3"
  },
  "language_info": {
   "codemirror_mode": {
    "name": "ipython",
    "version": 3
   },
   "file_extension": ".py",
   "mimetype": "text/x-python",
   "name": "python",
   "nbconvert_exporter": "python",
   "pygments_lexer": "ipython3",
   "version": "3.8.2"
  }
 },
 "nbformat": 4,
 "nbformat_minor": 1
}
