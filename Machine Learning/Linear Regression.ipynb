{
 "cells": [
  {
   "cell_type": "markdown",
   "metadata": {
    "id": "R5o42_FADa5i"
   },
   "source": [
    "# Linear Regression"
   ]
  },
  {
   "cell_type": "code",
   "execution_count": 31,
   "metadata": {
    "executionInfo": {
     "elapsed": 884,
     "status": "ok",
     "timestamp": 1618916854626,
     "user": {
      "displayName": "Hassan Farid",
      "photoUrl": "",
      "userId": "05321934208926622062"
     },
     "user_tz": -300
    },
    "id": "a84NkyR2DeFE"
   },
   "outputs": [],
   "source": [
    "import numpy as np\n",
    "from sklearn.linear_model import LinearRegression, SGDRegressor\n",
    "import matplotlib.pyplot as plt"
   ]
  },
  {
   "cell_type": "code",
   "execution_count": 8,
   "metadata": {
    "executionInfo": {
     "elapsed": 1121,
     "status": "ok",
     "timestamp": 1618916603326,
     "user": {
      "displayName": "Hassan Farid",
      "photoUrl": "",
      "userId": "05321934208926622062"
     },
     "user_tz": -300
    },
    "id": "TQFm34Vh6jso"
   },
   "outputs": [],
   "source": [
    "#Creating linear data for running the Regression Model\n",
    "X = 2 * np.random.rand(100, 1) #Creating X-values using Uniform Distribution Noise\n",
    "y = 4 + 3 * X + np.random.randn(100, 1) #Creating Y-values using Normal Distribution Noise"
   ]
  },
  {
   "cell_type": "code",
   "execution_count": 16,
   "metadata": {
    "colab": {
     "base_uri": "https://localhost:8080/",
     "height": 279
    },
    "executionInfo": {
     "elapsed": 1055,
     "status": "ok",
     "timestamp": 1618917359010,
     "user": {
      "displayName": "Hassan Farid",
      "photoUrl": "",
      "userId": "05321934208926622062"
     },
     "user_tz": -300
    },
    "id": "O9_q5LQJ7z_M",
    "outputId": "5eb3a12b-9c0c-48b1-9cda-8c4a89a4533c"
   },
   "outputs": [
    {
     "data": {
      "image/png": "[encoded data removed]",
      "text/plain": [
       "<Figure size 432x288 with 1 Axes>"
      ]
     },
     "metadata": {
      "needs_background": "light",
      "tags": []
     },
     "output_type": "display_data"
    }
   ],
   "source": [
    "#Plotting the data\n",
    "plt.plot(X, y, \".\")\n",
    "plt.xlabel('x-values')\n",
    "plt.ylabel('y-values')\n",
    "plt.show()"
   ]
  },
  {
   "cell_type": "markdown",
   "metadata": {
    "id": "1CwgJqXNA7KG"
   },
   "source": [
    "## Using Drect Computation of the Normal Equation"
   ]
  },
  {
   "cell_type": "code",
   "execution_count": 11,
   "metadata": {
    "executionInfo": {
     "elapsed": 1034,
     "status": "ok",
     "timestamp": 1618916896135,
     "user": {
      "displayName": "Hassan Farid",
      "photoUrl": "",
      "userId": "05321934208926622062"
     },
     "user_tz": -300
    },
    "id": "LyqGWuNg8w9O"
   },
   "outputs": [],
   "source": [
    "#Using the Normal Equation to compute the value of Theta to minimize the Cost function\n",
    "X_b = np.c_[np.ones((100,1)), X] #Adding X_0 = 1 to every instance\n",
    "theta_best = np.linalg.inv(X_b.T.dot(X_b)).dot(X_b.T).dot(y)"
   ]
  },
  {
   "cell_type": "code",
   "execution_count": 12,
   "metadata": {
    "colab": {
     "base_uri": "https://localhost:8080/"
    },
    "executionInfo": {
     "elapsed": 1274,
     "status": "ok",
     "timestamp": 1618916919040,
     "user": {
      "displayName": "Hassan Farid",
      "photoUrl": "",
      "userId": "05321934208926622062"
     },
     "user_tz": -300
    },
    "id": "6ltkR85R93K7",
    "outputId": "58e6db47-0618-4108-90f6-1077fd70e9dd"
   },
   "outputs": [
    {
     "data": {
      "text/plain": [
       "array([[3.96260285],\n",
       "       [2.96289711]])"
      ]
     },
     "execution_count": 12,
     "metadata": {
      "tags": []
     },
     "output_type": "execute_result"
    }
   ],
   "source": [
    "#Viewing the best value of hyperparameter\n",
    "theta_best"
   ]
  },
  {
   "cell_type": "code",
   "execution_count": 15,
   "metadata": {
    "colab": {
     "base_uri": "https://localhost:8080/"
    },
    "executionInfo": {
     "elapsed": 1088,
     "status": "ok",
     "timestamp": 1618917276067,
     "user": {
      "displayName": "Hassan Farid",
      "photoUrl": "",
      "userId": "05321934208926622062"
     },
     "user_tz": -300
    },
    "id": "nbAkhSQM989e",
    "outputId": "26f3d4f9-ac88-4b39-ddd2-cc6818eee1da"
   },
   "outputs": [
    {
     "data": {
      "text/plain": [
       "array([[3.96260285],\n",
       "       [9.88839707]])"
      ]
     },
     "execution_count": 15,
     "metadata": {
      "tags": []
     },
     "output_type": "execute_result"
    }
   ],
   "source": [
    "#Now making predicitions using the obtained hyperparameter value\n",
    "X_new = np.array([[0], [2]])\n",
    "X_new_b = np.c_[np.ones((2,1)), X_new]\n",
    "\n",
    "y_predict = X_new_b.dot(theta_best)\n",
    "y_predict"
   ]
  },
  {
   "cell_type": "code",
   "execution_count": 24,
   "metadata": {
    "colab": {
     "base_uri": "https://localhost:8080/",
     "height": 279
    },
    "executionInfo": {
     "elapsed": 952,
     "status": "ok",
     "timestamp": 1618915377576,
     "user": {
      "displayName": "Hassan Farid",
      "photoUrl": "",
      "userId": "05321934208926622062"
     },
     "user_tz": -300
    },
    "id": "JMA8kUww_TBG",
    "outputId": "70f71fd0-6de3-44d3-cdfa-72de46e03f3f"
   },
   "outputs": [
    {
     "data": {
      "image/png": "[encoded data removed]",
      "text/plain": [
       "<Figure size 432x288 with 1 Axes>"
      ]
     },
     "metadata": {
      "needs_background": "light",
      "tags": []
     },
     "output_type": "display_data"
    }
   ],
   "source": [
    "#Viewing the plot for the predicted value\n",
    "def plot_linear_reg(predictions):\n",
    "  plt.plot(X_new, predictions, \"r-\")\n",
    "  plt.plot(X, y, \"b.\")\n",
    "  plt.axis([0, 2, 0, 15])\n",
    "  plt.xlabel(\"X\")\n",
    "  plt.ylabel(\"y\")\n",
    "  plt.show()\n",
    "\n",
    "plot_linear_reg(y_predict)"
   ]
  },
  {
   "cell_type": "markdown",
   "metadata": {
    "id": "mhKI1Gs6BATL"
   },
   "source": [
    "## Using Scikit Learn Linear Regressor"
   ]
  },
  {
   "cell_type": "code",
   "execution_count": 20,
   "metadata": {
    "colab": {
     "base_uri": "https://localhost:8080/"
    },
    "executionInfo": {
     "elapsed": 1173,
     "status": "ok",
     "timestamp": 1618917554214,
     "user": {
      "displayName": "Hassan Farid",
      "photoUrl": "",
      "userId": "05321934208926622062"
     },
     "user_tz": -300
    },
    "id": "rk2PS9ymADCG",
    "outputId": "72dfd3cb-6cb6-49da-c2e1-5dc070f46327"
   },
   "outputs": [
    {
     "data": {
      "text/plain": [
       "(array([3.96260285]), array([[2.96289711]]))"
      ]
     },
     "execution_count": 20,
     "metadata": {
      "tags": []
     },
     "output_type": "execute_result"
    }
   ],
   "source": [
    "#We can perform the equivalent operation in Scikit Learn as follows\n",
    "linear_reg = LinearRegression() #Creating a LinearRegression Model instance\n",
    "linear_reg.fit(X, y)\n",
    "linear_reg.intercept_, linear_reg.coef_"
   ]
  },
  {
   "cell_type": "code",
   "execution_count": 21,
   "metadata": {
    "colab": {
     "base_uri": "https://localhost:8080/"
    },
    "executionInfo": {
     "elapsed": 914,
     "status": "ok",
     "timestamp": 1618917615087,
     "user": {
      "displayName": "Hassan Farid",
      "photoUrl": "",
      "userId": "05321934208926622062"
     },
     "user_tz": -300
    },
    "id": "LsHwfz9QAYXx",
    "outputId": "51491551-0e0e-430b-ce2e-7e076c7dcb45"
   },
   "outputs": [
    {
     "data": {
      "text/plain": [
       "array([[3.96260285],\n",
       "       [9.88839707]])"
      ]
     },
     "execution_count": 21,
     "metadata": {
      "tags": []
     },
     "output_type": "execute_result"
    }
   ],
   "source": [
    "#Predicting the new values using trained Linear Regressor\n",
    "linear_reg.predict(X_new)"
   ]
  },
  {
   "cell_type": "markdown",
   "metadata": {
    "id": "fCe_kB9tBLI1"
   },
   "source": [
    "## Using Gradient Descent"
   ]
  },
  {
   "cell_type": "code",
   "execution_count": 23,
   "metadata": {
    "colab": {
     "base_uri": "https://localhost:8080/"
    },
    "executionInfo": {
     "elapsed": 852,
     "status": "ok",
     "timestamp": 1618918335602,
     "user": {
      "displayName": "Hassan Farid",
      "photoUrl": "",
      "userId": "05321934208926622062"
     },
     "user_tz": -300
    },
    "id": "L6_oYcrWBNYM",
    "outputId": "792a7d4e-0508-4a59-c6e8-9f1d16ece0cf"
   },
   "outputs": [
    {
     "data": {
      "text/plain": [
       "array([[3.96260285],\n",
       "       [2.96289711]])"
      ]
     },
     "execution_count": 23,
     "metadata": {
      "tags": []
     },
     "output_type": "execute_result"
    }
   ],
   "source": [
    "#Using Batch Gradient Descent\n",
    "\n",
    "eta = 0.1 #Initializing value for the learning rate\n",
    "n_iterations = 1000 #Number of iterations to perform\n",
    "m = 100 #Total number of samples\n",
    "\n",
    "theta = np.random.randn(2,1) #Random initialization for the parameter\n",
    "\n",
    "#Running the gradient descent for each iteration\n",
    "for iteration in range(n_iterations):\n",
    "  gradients = 2/m * X_b.T.dot(X_b.dot(theta) - y) #Computing the value for the gradients\n",
    "  theta = theta - eta * gradients #Computing the new theta value from gradient and learning rate\n",
    "\n",
    "#Viewing the final value obtained\n",
    "theta"
   ]
  },
  {
   "cell_type": "code",
   "execution_count": 26,
   "metadata": {
    "colab": {
     "base_uri": "https://localhost:8080/",
     "height": 279
    },
    "executionInfo": {
     "elapsed": 1050,
     "status": "ok",
     "timestamp": 1618915404802,
     "user": {
      "displayName": "Hassan Farid",
      "photoUrl": "",
      "userId": "05321934208926622062"
     },
     "user_tz": -300
    },
    "id": "7mg88Ph53PWR",
    "outputId": "c2b135db-4711-446f-8e54-0e6c9ac42b6e"
   },
   "outputs": [
    {
     "data": {
      "image/png": "[encoded data removed]",
      "text/plain": [
       "<Figure size 432x288 with 1 Axes>"
      ]
     },
     "metadata": {
      "needs_background": "light",
      "tags": []
     },
     "output_type": "display_data"
    }
   ],
   "source": [
    "#Viewing the results on the prediction set\n",
    "y_batch_predict = X_new_b.dot(theta)\n",
    "plot_linear_reg(y_batch_predict)"
   ]
  },
  {
   "cell_type": "code",
   "execution_count": 27,
   "metadata": {
    "colab": {
     "base_uri": "https://localhost:8080/"
    },
    "executionInfo": {
     "elapsed": 1290,
     "status": "ok",
     "timestamp": 1618915810700,
     "user": {
      "displayName": "Hassan Farid",
      "photoUrl": "",
      "userId": "05321934208926622062"
     },
     "user_tz": -300
    },
    "id": "W_gl9DhLDX7z",
    "outputId": "01929b87-123d-47b9-a34f-1f6c09b80ad9"
   },
   "outputs": [
    {
     "data": {
      "text/plain": [
       "array([[3.92002276],\n",
       "       [3.01895162]])"
      ]
     },
     "execution_count": 27,
     "metadata": {
      "tags": []
     },
     "output_type": "execute_result"
    }
   ],
   "source": [
    "#Using Stochastic Gradient Descent\n",
    "\n",
    "n_epochs = 50 #Number of times to run algorithm on the dataset\n",
    "t0, t1 = 5, 50 #Defining learning schedule hyper parameters\n",
    "\n",
    "#Defining a method for computing learning rate using the schedule\n",
    "def learning_schedule(t):\n",
    "  return t0 / (t + t1)\n",
    "\n",
    "#Defining a random value for the parameter from a Normal Distribution\n",
    "theta = np.random.randn(2,1)\n",
    "\n",
    "#Applying the algorithm for defined epochs of training\n",
    "for epoch in range(n_epochs):\n",
    "  for i in range(m):\n",
    "    random_index = np.random.randint(m) #Taking some random index from total m sample indices\n",
    "    xi = X_b[random_index: random_index+1] #Taking a single value from the dataset at a time\n",
    "    yi = y[random_index: random_index+1] #Taking a single value from the dataset at a time\n",
    "\n",
    "    gradients = 2 * xi.T.dot(xi.dot(theta) - yi) #Computing graidents for the selected random indices\n",
    "    eta = learning_schedule(epoch * m + i) #Computing learning rate for theta value\n",
    "    theta = theta - eta * gradients #Computing theta value using learning rate and gradient value\n",
    "\n",
    "#Viewing the final value obtained\n",
    "theta"
   ]
  },
  {
   "cell_type": "code",
   "execution_count": 28,
   "metadata": {
    "colab": {
     "base_uri": "https://localhost:8080/",
     "height": 279
    },
    "executionInfo": {
     "elapsed": 995,
     "status": "ok",
     "timestamp": 1618915869895,
     "user": {
      "displayName": "Hassan Farid",
      "photoUrl": "",
      "userId": "05321934208926622062"
     },
     "user_tz": -300
    },
    "id": "Jk-LDq3b5uTp",
    "outputId": "0abcafe7-e87c-4e64-9b9a-6b579210ff40"
   },
   "outputs": [
    {
     "data": {
      "image/png": "[encoded data removed]",
      "text/plain": [
       "<Figure size 432x288 with 1 Axes>"
      ]
     },
     "metadata": {
      "needs_background": "light",
      "tags": []
     },
     "output_type": "display_data"
    }
   ],
   "source": [
    "#Viewing the prediction results from obtained parameter value\n",
    "y_sgd_predict = X_new_b.dot(theta)\n",
    "plot_linear_reg(y_sgd_predict)"
   ]
  },
  {
   "cell_type": "markdown",
   "metadata": {
    "id": "3PbMuRKK9HJ4"
   },
   "source": [
    "# Using Scikit SGD Regressor"
   ]
  },
  {
   "cell_type": "code",
   "execution_count": 33,
   "metadata": {
    "colab": {
     "base_uri": "https://localhost:8080/"
    },
    "executionInfo": {
     "elapsed": 1024,
     "status": "ok",
     "timestamp": 1618916915894,
     "user": {
      "displayName": "Hassan Farid",
      "photoUrl": "",
      "userId": "05321934208926622062"
     },
     "user_tz": -300
    },
    "id": "bMS7jbMu9GNg",
    "outputId": "f8631775-ba5e-428b-dc77-4f9a1adea70b"
   },
   "outputs": [
    {
     "data": {
      "text/plain": [
       "SGDRegressor(alpha=0.0001, average=False, early_stopping=False, epsilon=0.1,\n",
       "             eta0=0.1, fit_intercept=True, l1_ratio=0.15,\n",
       "             learning_rate='invscaling', loss='squared_loss', max_iter=1000,\n",
       "             n_iter_no_change=50, penalty=None, power_t=0.25, random_state=None,\n",
       "             shuffle=True, tol=0.001, validation_fraction=0.1, verbose=0,\n",
       "             warm_start=False)"
      ]
     },
     "execution_count": 33,
     "metadata": {
      "tags": []
     },
     "output_type": "execute_result"
    }
   ],
   "source": [
    "#Computing SGD Regressor for 50 epochs and with learning rate 0.1\n",
    "sgd_regressor = SGDRegressor(n_iter_no_change=50, penalty=None, eta0=0.1)\n",
    "sgd_regressor.fit(X, y.ravel())"
   ]
  },
  {
   "cell_type": "code",
   "execution_count": 34,
   "metadata": {
    "colab": {
     "base_uri": "https://localhost:8080/"
    },
    "executionInfo": {
     "elapsed": 896,
     "status": "ok",
     "timestamp": 1618916988321,
     "user": {
      "displayName": "Hassan Farid",
      "photoUrl": "",
      "userId": "05321934208926622062"
     },
     "user_tz": -300
    },
    "id": "3eBO4SLa7Kdr",
    "outputId": "44697387-4aec-4ee7-d141-bf433464fcec"
   },
   "outputs": [
    {
     "data": {
      "text/plain": [
       "array([3.96188193, 9.87788203])"
      ]
     },
     "execution_count": 34,
     "metadata": {
      "tags": []
     },
     "output_type": "execute_result"
    }
   ],
   "source": [
    "#Predicting values using the trained SGD Regressor\n",
    "sgd_regressor.predict(X_new)"
   ]
  }
 ],
 "metadata": {
  "colab": {
   "authorship_tag": "ABX9TyM4TbPQ7nkhxbDcNFW630BG",
   "collapsed_sections": [],
   "name": "Linear Regression.ipynb",
   "provenance": []
  },
  "kernelspec": {
   "display_name": "Python 3",
   "language": "python",
   "name": "python3"
  },
  "language_info": {
   "codemirror_mode": {
    "name": "ipython",
    "version": 3
   },
   "file_extension": ".py",
   "mimetype": "text/x-python",
   "name": "python",
   "nbconvert_exporter": "python",
   "pygments_lexer": "ipython3",
   "version": "3.8.2"
  }
 },
 "nbformat": 4,
 "nbformat_minor": 1
}
