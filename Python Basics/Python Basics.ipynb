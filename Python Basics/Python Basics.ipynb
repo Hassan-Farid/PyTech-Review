{
 "cells": [
  {
   "cell_type": "markdown",
   "metadata": {},
   "source": [
    "# Displaying Hello World:"
   ]
  },
  {
   "cell_type": "code",
   "execution_count": 1,
   "metadata": {},
   "outputs": [
    {
     "name": "stdout",
     "output_type": "stream",
     "text": [
      "Hello World\n"
     ]
    }
   ],
   "source": [
    "# Using the print method\n",
    "print(\"Hello World\")"
   ]
  },
  {
   "cell_type": "code",
   "execution_count": 2,
   "metadata": {},
   "outputs": [
    {
     "name": "stdout",
     "output_type": "stream",
     "text": [
      "Hello World\n"
     ]
    }
   ],
   "source": [
    "#Using the printf method\n",
    "print(f\"Hello World\")"
   ]
  },
  {
   "cell_type": "code",
   "execution_count": 3,
   "metadata": {},
   "outputs": [
    {
     "name": "stdout",
     "output_type": "stream",
     "text": [
      "Hello World\n"
     ]
    }
   ],
   "source": [
    "#Using the string format method\n",
    "print(\"{}\".format(\"Hello World\"))"
   ]
  },
  {
   "cell_type": "markdown",
   "metadata": {},
   "source": [
    "# Taking Input from the User:"
   ]
  },
  {
   "cell_type": "code",
   "execution_count": 4,
   "metadata": {},
   "outputs": [
    {
     "name": "stdout",
     "output_type": "stream",
     "text": [
      "Hello World\n",
      "Hello World\n"
     ]
    }
   ],
   "source": [
    "# Taking a string input from the user\n",
    "text = input()\n",
    "print(text)"
   ]
  },
  {
   "cell_type": "code",
   "execution_count": 5,
   "metadata": {},
   "outputs": [
    {
     "name": "stdout",
     "output_type": "stream",
     "text": [
      "3\n",
      "3\n"
     ]
    }
   ],
   "source": [
    "# Taking an integer input from the user (using typecasting)\n",
    "num = int(input())\n",
    "print(num)"
   ]
  },
  {
   "cell_type": "code",
   "execution_count": 6,
   "metadata": {},
   "outputs": [
    {
     "name": "stdout",
     "output_type": "stream",
     "text": [
      "Enter a floating point rational number: 2.0956\n",
      "The inputted number is: 2.0956\n"
     ]
    }
   ],
   "source": [
    "# Using a prompt to tell the user about the input\n",
    "rational = float(input(\"Enter a floating point rational number: \"))\n",
    "print(\"The inputted number is: {}\".format(rational))"
   ]
  },
  {
   "cell_type": "markdown",
   "metadata": {},
   "source": [
    "# Using Basic Arithmetic and Logic Operations"
   ]
  },
  {
   "cell_type": "code",
   "execution_count": 7,
   "metadata": {},
   "outputs": [
    {
     "name": "stdout",
     "output_type": "stream",
     "text": [
      "16\n"
     ]
    }
   ],
   "source": [
    "# Adding two values\n",
    "num1 = 13\n",
    "num2 = 3\n",
    "print(num1 + num2)"
   ]
  },
  {
   "cell_type": "code",
   "execution_count": 8,
   "metadata": {},
   "outputs": [
    {
     "name": "stdout",
     "output_type": "stream",
     "text": [
      "10\n"
     ]
    }
   ],
   "source": [
    "# Subtracting two values\n",
    "num1 = 13\n",
    "num2 = 3\n",
    "print(num1 - num2)"
   ]
  },
  {
   "cell_type": "code",
   "execution_count": 9,
   "metadata": {},
   "outputs": [
    {
     "name": "stdout",
     "output_type": "stream",
     "text": [
      "39\n"
     ]
    }
   ],
   "source": [
    "# Multiplying two values\n",
    "num1 = 13\n",
    "num2 = 3\n",
    "print(num1 * num2)"
   ]
  },
  {
   "cell_type": "code",
   "execution_count": 10,
   "metadata": {},
   "outputs": [
    {
     "name": "stdout",
     "output_type": "stream",
     "text": [
      "4.333333333333333\n"
     ]
    }
   ],
   "source": [
    "# Dividing two values\n",
    "num1 = 13\n",
    "num2 = 3\n",
    "print(num1 / num2)"
   ]
  },
  {
   "cell_type": "code",
   "execution_count": 11,
   "metadata": {},
   "outputs": [
    {
     "name": "stdout",
     "output_type": "stream",
     "text": [
      "4\n"
     ]
    }
   ],
   "source": [
    "# Floor Division of two values (Getting Quotient of Divison)\n",
    "num1 = 13\n",
    "num2 = 3\n",
    "print(num1 // num2)"
   ]
  },
  {
   "cell_type": "code",
   "execution_count": 12,
   "metadata": {},
   "outputs": [
    {
     "name": "stdout",
     "output_type": "stream",
     "text": [
      "1\n"
     ]
    }
   ],
   "source": [
    "# Modulus of two values (Getting Remainder of Divison)\n",
    "num1 = 13\n",
    "num2 = 3\n",
    "print(num1 % num2)"
   ]
  },
  {
   "cell_type": "code",
   "execution_count": 13,
   "metadata": {},
   "outputs": [
    {
     "name": "stdout",
     "output_type": "stream",
     "text": [
      "2197\n"
     ]
    }
   ],
   "source": [
    "# Exponentation (Powering up a number)\n",
    "num1 = 13\n",
    "num2 = 3\n",
    "print(num1 ** num2)"
   ]
  },
  {
   "cell_type": "code",
   "execution_count": 1,
   "metadata": {},
   "outputs": [
    {
     "data": {
      "text/plain": [
       "-5"
      ]
     },
     "execution_count": 1,
     "metadata": {},
     "output_type": "execute_result"
    }
   ],
   "source": [
    "#Negation \n",
    "num = 5\n",
    "-num"
   ]
  },
  {
   "cell_type": "code",
   "execution_count": 2,
   "metadata": {},
   "outputs": [
    {
     "data": {
      "text/plain": [
       "5"
      ]
     },
     "execution_count": 2,
     "metadata": {},
     "output_type": "execute_result"
    }
   ],
   "source": [
    "#Absolute Function\n",
    "num = -5\n",
    "abs(num)"
   ]
  },
  {
   "cell_type": "code",
   "execution_count": 3,
   "metadata": {},
   "outputs": [
    {
     "data": {
      "text/plain": [
       "5"
      ]
     },
     "execution_count": 3,
     "metadata": {},
     "output_type": "execute_result"
    }
   ],
   "source": [
    "#Type Casting into Integers\n",
    "num = 5.064\n",
    "int(num)"
   ]
  },
  {
   "cell_type": "code",
   "execution_count": 4,
   "metadata": {},
   "outputs": [
    {
     "data": {
      "text/plain": [
       "5.064"
      ]
     },
     "execution_count": 4,
     "metadata": {},
     "output_type": "execute_result"
    }
   ],
   "source": [
    "#Type Casting into Floats\n",
    "num = '5.064'\n",
    "float(num)"
   ]
  },
  {
   "cell_type": "code",
   "execution_count": 5,
   "metadata": {},
   "outputs": [
    {
     "data": {
      "text/plain": [
       "(2+3j)"
      ]
     },
     "execution_count": 5,
     "metadata": {},
     "output_type": "execute_result"
    }
   ],
   "source": [
    "#Type Casting into Complex\n",
    "cmplx = complex(2,3) #Creates a complex number with real value 2 and imaginary value 3\n",
    "cmplx"
   ]
  },
  {
   "cell_type": "code",
   "execution_count": 6,
   "metadata": {},
   "outputs": [
    {
     "data": {
      "text/plain": [
       "(2-3j)"
      ]
     },
     "execution_count": 6,
     "metadata": {},
     "output_type": "execute_result"
    }
   ],
   "source": [
    "#Creating conjugate of a complex number\n",
    "cmplx.conjugate()"
   ]
  },
  {
   "cell_type": "code",
   "execution_count": 7,
   "metadata": {},
   "outputs": [
    {
     "data": {
      "text/plain": [
       "(4, 1)"
      ]
     },
     "execution_count": 7,
     "metadata": {},
     "output_type": "execute_result"
    }
   ],
   "source": [
    "#Getting quotient and remainder of a division as a tuple\n",
    "num1 = 13\n",
    "num2 = 3\n",
    "divmod(num1, num2)"
   ]
  },
  {
   "cell_type": "code",
   "execution_count": 8,
   "metadata": {},
   "outputs": [
    {
     "data": {
      "text/plain": [
       "2197"
      ]
     },
     "execution_count": 8,
     "metadata": {},
     "output_type": "execute_result"
    }
   ],
   "source": [
    "#Computing the power \n",
    "num1 = 13\n",
    "num2 = 3\n",
    "pow(num1, num2)"
   ]
  },
  {
   "cell_type": "code",
   "execution_count": 21,
   "metadata": {},
   "outputs": [
    {
     "data": {
      "text/plain": [
       "6"
      ]
     },
     "execution_count": 21,
     "metadata": {},
     "output_type": "execute_result"
    }
   ],
   "source": [
    "#Bitwise OR\n",
    "num1 = 2 #010b\n",
    "num2 = 4 #100b\n",
    "num1 | num2 #Returns the bitwise sum of integers (110b)"
   ]
  },
  {
   "cell_type": "code",
   "execution_count": 23,
   "metadata": {},
   "outputs": [
    {
     "data": {
      "text/plain": [
       "2"
      ]
     },
     "execution_count": 23,
     "metadata": {},
     "output_type": "execute_result"
    }
   ],
   "source": [
    "#Bitwise AND\n",
    "num1 = 2 #010b\n",
    "num2 = 6 #110b\n",
    "num1 & num2 #Returns the bitwise product of integers (010b)"
   ]
  },
  {
   "cell_type": "code",
   "execution_count": 24,
   "metadata": {},
   "outputs": [
    {
     "data": {
      "text/plain": [
       "4"
      ]
     },
     "execution_count": 24,
     "metadata": {},
     "output_type": "execute_result"
    }
   ],
   "source": [
    "#Bitwise Exclusive OR (XOR)\n",
    "num1 = 2 #010b\n",
    "num2 = 6 #110b\n",
    "num1 ^ num2 #Returns the bitwise XOR of integers (100b)"
   ]
  },
  {
   "cell_type": "code",
   "execution_count": 25,
   "metadata": {},
   "outputs": [
    {
     "data": {
      "text/plain": [
       "-7"
      ]
     },
     "execution_count": 25,
     "metadata": {},
     "output_type": "execute_result"
    }
   ],
   "source": [
    "#Bitwise inversion (NOT)\n",
    "num1 = 6 #110b\n",
    "~num1 #Returns the bitwise NOT of integer (001b)"
   ]
  },
  {
   "cell_type": "code",
   "execution_count": 28,
   "metadata": {},
   "outputs": [
    {
     "data": {
      "text/plain": [
       "116"
      ]
     },
     "execution_count": 28,
     "metadata": {},
     "output_type": "execute_result"
    }
   ],
   "source": [
    "#Bitwise Shift Left\n",
    "num = 29 #11101b\n",
    "num << 2 #Shifts the integer by 2 digits left (1110100)"
   ]
  },
  {
   "cell_type": "code",
   "execution_count": 29,
   "metadata": {},
   "outputs": [
    {
     "data": {
      "text/plain": [
       "7"
      ]
     },
     "execution_count": 29,
     "metadata": {},
     "output_type": "execute_result"
    }
   ],
   "source": [
    "#Bitwise Shift Right\n",
    "num = 29 #11101b\n",
    "num >> 2 #Shifts the integer by 2 digits right (00111b)"
   ]
  },
  {
   "cell_type": "code",
   "execution_count": 30,
   "metadata": {},
   "outputs": [
    {
     "data": {
      "text/plain": [
       "3"
      ]
     },
     "execution_count": 30,
     "metadata": {},
     "output_type": "execute_result"
    }
   ],
   "source": [
    "#Getting bit length of an integer\n",
    "num1 = 6 #110b\n",
    "num1.bit_length() "
   ]
  },
  {
   "cell_type": "code",
   "execution_count": 41,
   "metadata": {},
   "outputs": [
    {
     "data": {
      "text/plain": [
       "b'\\x03\\xff'"
      ]
     },
     "execution_count": 41,
     "metadata": {},
     "output_type": "execute_result"
    }
   ],
   "source": [
    "#Createing an array of bytes for the provided integer\n",
    "num1 = 1023\n",
    "num1.to_bytes(2, byteorder='big')"
   ]
  },
  {
   "cell_type": "code",
   "execution_count": 42,
   "metadata": {},
   "outputs": [
    {
     "data": {
      "text/plain": [
       "1023"
      ]
     },
     "execution_count": 42,
     "metadata": {},
     "output_type": "execute_result"
    }
   ],
   "source": [
    "#Creating integer from a bytes array\n",
    "bstring = b'\\x03\\xff'\n",
    "num = 0\n",
    "num.from_bytes(bstring, byteorder='big')"
   ]
  },
  {
   "cell_type": "code",
   "execution_count": 44,
   "metadata": {},
   "outputs": [
    {
     "data": {
      "text/plain": [
       "(8, 1)"
      ]
     },
     "execution_count": 44,
     "metadata": {},
     "output_type": "execute_result"
    }
   ],
   "source": [
    "#Get integer ratio to get the integer\n",
    "num = 8\n",
    "num.as_integer_ratio() #Always gives integer as numerator and 1 as denominator"
   ]
  },
  {
   "cell_type": "code",
   "execution_count": 45,
   "metadata": {},
   "outputs": [
    {
     "data": {
      "text/plain": [
       "(9, 2)"
      ]
     },
     "execution_count": 45,
     "metadata": {},
     "output_type": "execute_result"
    }
   ],
   "source": [
    "#Get integer ratio to get the fractional floating point\n",
    "num = 4.5\n",
    "num.as_integer_ratio() #Returns tuple as (numerator, denominator)"
   ]
  },
  {
   "cell_type": "code",
   "execution_count": 46,
   "metadata": {},
   "outputs": [
    {
     "data": {
      "text/plain": [
       "True"
      ]
     },
     "execution_count": 46,
     "metadata": {},
     "output_type": "execute_result"
    }
   ],
   "source": [
    "#Check if floating point is also an integer\n",
    "num = 4.0\n",
    "num.is_integer() #Returns True if integer otherwise False"
   ]
  },
  {
   "cell_type": "code",
   "execution_count": 14,
   "metadata": {},
   "outputs": [
    {
     "name": "stdout",
     "output_type": "stream",
     "text": [
      "True\n",
      "True\n",
      "True\n",
      "True\n",
      "True\n",
      "True\n"
     ]
    }
   ],
   "source": [
    "# Logical Operators\n",
    "num1 = num2 = 2\n",
    "num3 = 5\n",
    "num4 = 1\n",
    "\n",
    "print(num1 == num2) #Is equal?\n",
    "print(num1 != num3) #Is not equal?\n",
    "print(num4 < num2) #Is less than?\n",
    "print(num3 > num2) #Is greater than?\n",
    "print(num4 <= num2) #Is less than equals to?\n",
    "print(num3 >= num1) #Is greater than equals to?"
   ]
  },
  {
   "cell_type": "markdown",
   "metadata": {},
   "source": [
    "# Using Conditionals"
   ]
  },
  {
   "cell_type": "code",
   "execution_count": 15,
   "metadata": {},
   "outputs": [
    {
     "name": "stdout",
     "output_type": "stream",
     "text": [
      "Enter an integer: -3\n",
      "Number is less than 0\n"
     ]
    }
   ],
   "source": [
    "# Checking a single condition\n",
    "num = int(input(\"Enter an integer: \"))\n",
    "if num < 0:\n",
    "    print(\"Number is less than 0\")"
   ]
  },
  {
   "cell_type": "code",
   "execution_count": 16,
   "metadata": {},
   "outputs": [
    {
     "name": "stdout",
     "output_type": "stream",
     "text": [
      "Enter an integer: 5\n",
      "Number is greater than 0\n"
     ]
    }
   ],
   "source": [
    "# Checking two conditions\n",
    "num = int(input(\"Enter an integer: \"))\n",
    "if num < 0:\n",
    "    print(\"Number is less than 0\")\n",
    "else:\n",
    "    print(\"Number is greater than 0\")"
   ]
  },
  {
   "cell_type": "code",
   "execution_count": 17,
   "metadata": {},
   "outputs": [
    {
     "name": "stdout",
     "output_type": "stream",
     "text": [
      "Enter an integer: 0\n",
      "Number is equal to 0\n"
     ]
    }
   ],
   "source": [
    "# Checking more than two alternative conditions\n",
    "num = int(input(\"Enter an integer: \"))\n",
    "if num < 0:\n",
    "    print(\"Number is less than 0\")\n",
    "elif num > 0:\n",
    "    print(\"Number is greater than 0\")\n",
    "else:\n",
    "    print(\"Number is equal to 0\")"
   ]
  },
  {
   "cell_type": "code",
   "execution_count": 18,
   "metadata": {},
   "outputs": [
    {
     "name": "stdout",
     "output_type": "stream",
     "text": [
      "Enter marks obtained by Student: 87\n",
      "Student obtained an A+\n",
      "Student Passed the Exam\n"
     ]
    }
   ],
   "source": [
    "# Checking more than two conditions which may not be alternative\n",
    "marks = int(input(\"Enter marks obtained by Student: \"))\n",
    "if marks >= 85:\n",
    "    print(\"Student obtained an A+\")\n",
    "if marks > 60:\n",
    "    print(\"Student Passed the Exam\")\n",
    "else:\n",
    "    print(\"Student Failed the Exam\")"
   ]
  },
  {
   "cell_type": "markdown",
   "metadata": {},
   "source": [
    "# Using Iterative Statements"
   ]
  },
  {
   "cell_type": "markdown",
   "metadata": {},
   "source": [
    "## Using For Loops:\n",
    "We use range(start, stop, step) method with for loops, that starts the counter from the value \"start\" and ends the counter at \"stop\" incrementing the counter by the step size \"step\" as indicated in the examples below:"
   ]
  },
  {
   "cell_type": "code",
   "execution_count": 19,
   "metadata": {},
   "outputs": [
    {
     "name": "stdout",
     "output_type": "stream",
     "text": [
      "0\n",
      "1\n",
      "2\n",
      "3\n",
      "4\n"
     ]
    }
   ],
   "source": [
    "#Looping with incrementing counter\n",
    "for i in range(5): #Prints values from 0 to 4\n",
    "    print(i)"
   ]
  },
  {
   "cell_type": "code",
   "execution_count": 20,
   "metadata": {},
   "outputs": [
    {
     "name": "stdout",
     "output_type": "stream",
     "text": [
      "4\n",
      "3\n",
      "2\n",
      "1\n",
      "0\n"
     ]
    }
   ],
   "source": [
    "#Looping with decrement counter\n",
    "for i in range(4, -1, -1): #Prints values from 4 to 0\n",
    "    print(i)"
   ]
  },
  {
   "cell_type": "code",
   "execution_count": 21,
   "metadata": {},
   "outputs": [
    {
     "name": "stdout",
     "output_type": "stream",
     "text": [
      "0\n",
      "2\n",
      "4\n",
      "6\n",
      "8\n",
      "10\n"
     ]
    }
   ],
   "source": [
    "#Looping with custom step size \n",
    "for i in range(0, 11, 2): #Prints values from 0 to 10 incrementing counter by 2\n",
    "    print(i)"
   ]
  },
  {
   "cell_type": "markdown",
   "metadata": {},
   "source": [
    "## Using While Loops:\n",
    "While Loops use the same format as in most languages. We need to initialize a counter variable before the while loop and define its counter in the loop block as indicated below:"
   ]
  },
  {
   "cell_type": "code",
   "execution_count": 22,
   "metadata": {},
   "outputs": [
    {
     "name": "stdout",
     "output_type": "stream",
     "text": [
      "0\n",
      "1\n",
      "2\n",
      "3\n",
      "4\n"
     ]
    }
   ],
   "source": [
    "#Looping with increment counter\n",
    "i = 0\n",
    "while(i < 5):\n",
    "    print(i)\n",
    "    i += 1"
   ]
  },
  {
   "cell_type": "code",
   "execution_count": 23,
   "metadata": {},
   "outputs": [
    {
     "name": "stdout",
     "output_type": "stream",
     "text": [
      "4\n",
      "3\n",
      "2\n",
      "1\n",
      "0\n"
     ]
    }
   ],
   "source": [
    "#Looping with decrement counter\n",
    "i = 4\n",
    "while(i >= 0):\n",
    "    print(i)\n",
    "    i -= 1"
   ]
  },
  {
   "cell_type": "code",
   "execution_count": 24,
   "metadata": {},
   "outputs": [
    {
     "name": "stdout",
     "output_type": "stream",
     "text": [
      "0\n",
      "2\n",
      "4\n",
      "6\n",
      "8\n",
      "10\n"
     ]
    }
   ],
   "source": [
    "#Looping with custom size counter\n",
    "i = 0\n",
    "while(i <= 10):\n",
    "    print(i)\n",
    "    i += 2"
   ]
  },
  {
   "cell_type": "markdown",
   "metadata": {},
   "source": [
    "## Using While True Loop:\n",
    "While True loop is an infinite loop that is mostly used with break and continue statements, as illustrated under:"
   ]
  },
  {
   "cell_type": "code",
   "execution_count": 25,
   "metadata": {},
   "outputs": [
    {
     "name": "stdout",
     "output_type": "stream",
     "text": [
      "0\n",
      "1\n",
      "2\n",
      "3\n",
      "4\n"
     ]
    }
   ],
   "source": [
    "#Using while True with break\n",
    "i = 0\n",
    "while True:\n",
    "    if i == 5:\n",
    "        break\n",
    "    print(i)\n",
    "    i += 1"
   ]
  },
  {
   "cell_type": "code",
   "execution_count": 26,
   "metadata": {},
   "outputs": [
    {
     "name": "stdout",
     "output_type": "stream",
     "text": [
      "0\n",
      "1\n",
      "2\n",
      "3\n",
      "4\n"
     ]
    }
   ],
   "source": [
    "#Using while True with continue (continue is used with break)\n",
    "i = -1\n",
    "while True:\n",
    "    i += 1\n",
    "    print(i)\n",
    "    if i != 4:\n",
    "        continue\n",
    "    else:\n",
    "        break"
   ]
  },
  {
   "cell_type": "markdown",
   "metadata": {},
   "source": [
    "# Using Boolean Operators (Short-Circuiting)"
   ]
  },
  {
   "cell_type": "code",
   "execution_count": 27,
   "metadata": {},
   "outputs": [
    {
     "name": "stdout",
     "output_type": "stream",
     "text": [
      "True\n"
     ]
    }
   ],
   "source": [
    "#Either short-circuiting (if any one of the condition is satisfied)\n",
    "num = 5\n",
    "print(num == 2 or num%5 == 0)"
   ]
  },
  {
   "cell_type": "code",
   "execution_count": 28,
   "metadata": {},
   "outputs": [
    {
     "name": "stdout",
     "output_type": "stream",
     "text": [
      "False\n",
      "True\n"
     ]
    }
   ],
   "source": [
    "#Both short-circuiting (if both conditions are satisfied)\n",
    "num = 5\n",
    "print(num == 10 and num%5 == 0)\n",
    "new_num = 10\n",
    "print(new_num == 10 and new_num%5 == 0)"
   ]
  },
  {
   "cell_type": "code",
   "execution_count": 29,
   "metadata": {},
   "outputs": [
    {
     "name": "stdout",
     "output_type": "stream",
     "text": [
      "True\n"
     ]
    }
   ],
   "source": [
    "#Complimentary short-circuiting (check for the alternative condition)\n",
    "num = 5\n",
    "print(not num == 10)"
   ]
  },
  {
   "cell_type": "markdown",
   "metadata": {},
   "source": [
    "# Sequences in Python:"
   ]
  },
  {
   "cell_type": "markdown",
   "metadata": {},
   "source": [
    "## Lists"
   ]
  },
  {
   "cell_type": "markdown",
   "metadata": {},
   "source": [
    "### List Initialization"
   ]
  },
  {
   "cell_type": "code",
   "execution_count": 30,
   "metadata": {},
   "outputs": [
    {
     "name": "stdout",
     "output_type": "stream",
     "text": [
      "[1, 2, 3, 4, 5]\n"
     ]
    }
   ],
   "source": [
    "#Creating lists in Python\n",
    "A = [] #Initialization\n",
    "A = [1,2,3,4,5] #Assignment\n",
    "print(A)"
   ]
  },
  {
   "cell_type": "code",
   "execution_count": 31,
   "metadata": {},
   "outputs": [
    {
     "name": "stdout",
     "output_type": "stream",
     "text": [
      "[0, 1, 2, 3, 4, 5, 6, 7, 8, 9]\n"
     ]
    }
   ],
   "source": [
    "#Using the range() method to create a list\n",
    "A = list(range(10)) #Creates a list of values from 0 to 9\n",
    "print(A)"
   ]
  },
  {
   "cell_type": "markdown",
   "metadata": {},
   "source": [
    "### Indexing and Slicing"
   ]
  },
  {
   "cell_type": "code",
   "execution_count": 32,
   "metadata": {},
   "outputs": [
    {
     "data": {
      "text/plain": [
       "0"
      ]
     },
     "execution_count": 32,
     "metadata": {},
     "output_type": "execute_result"
    }
   ],
   "source": [
    "#Getting a value from list using index (Indexing)\n",
    "A[0] #Gives the first value"
   ]
  },
  {
   "cell_type": "code",
   "execution_count": 33,
   "metadata": {},
   "outputs": [
    {
     "data": {
      "text/plain": [
       "2"
      ]
     },
     "execution_count": 33,
     "metadata": {},
     "output_type": "execute_result"
    }
   ],
   "source": [
    "A[2] #Gives the third value"
   ]
  },
  {
   "cell_type": "code",
   "execution_count": 34,
   "metadata": {},
   "outputs": [
    {
     "data": {
      "text/plain": [
       "9"
      ]
     },
     "execution_count": 34,
     "metadata": {},
     "output_type": "execute_result"
    }
   ],
   "source": [
    "A[-1] #Gives the last value"
   ]
  },
  {
   "cell_type": "code",
   "execution_count": 35,
   "metadata": {},
   "outputs": [
    {
     "data": {
      "text/plain": [
       "[0, 1]"
      ]
     },
     "execution_count": 35,
     "metadata": {},
     "output_type": "execute_result"
    }
   ],
   "source": [
    "#Getting a slice of values from a list within some indices (Slicing)\n",
    "A[0:2] #Gives values from 0th index to 1st index (2 values)"
   ]
  },
  {
   "cell_type": "code",
   "execution_count": 36,
   "metadata": {},
   "outputs": [
    {
     "data": {
      "text/plain": [
       "[3, 4, 5, 6]"
      ]
     },
     "execution_count": 36,
     "metadata": {},
     "output_type": "execute_result"
    }
   ],
   "source": [
    "A[3:7] #Gives values from 3rd index inclusive to 6th index (4 values)"
   ]
  },
  {
   "cell_type": "code",
   "execution_count": 37,
   "metadata": {},
   "outputs": [
    {
     "data": {
      "text/plain": [
       "[3, 4, 5, 6, 7]"
      ]
     },
     "execution_count": 37,
     "metadata": {},
     "output_type": "execute_result"
    }
   ],
   "source": [
    "A[3:-2] #Gives values from 3rd index to the third last index"
   ]
  },
  {
   "cell_type": "code",
   "execution_count": 38,
   "metadata": {},
   "outputs": [
    {
     "data": {
      "text/plain": [
       "[2, 3, 4, 5, 6, 7, 8, 9]"
      ]
     },
     "execution_count": 38,
     "metadata": {},
     "output_type": "execute_result"
    }
   ],
   "source": [
    "A[2:] #Gives all values after the 2nd index (inclusive)"
   ]
  },
  {
   "cell_type": "code",
   "execution_count": 39,
   "metadata": {},
   "outputs": [
    {
     "data": {
      "text/plain": [
       "[0, 1, 2, 3]"
      ]
     },
     "execution_count": 39,
     "metadata": {},
     "output_type": "execute_result"
    }
   ],
   "source": [
    "A[:4] #Gives all values before the 4th index (exclusive)"
   ]
  },
  {
   "cell_type": "code",
   "execution_count": 40,
   "metadata": {},
   "outputs": [
    {
     "data": {
      "text/plain": [
       "[2, 5, 8]"
      ]
     },
     "execution_count": 40,
     "metadata": {},
     "output_type": "execute_result"
    }
   ],
   "source": [
    "#Step based slicing \n",
    "A[2::3] #Gives all values from the array starting from 2 with each step size of 3 (values at 2nd, 5th, 8th )"
   ]
  },
  {
   "cell_type": "code",
   "execution_count": 41,
   "metadata": {},
   "outputs": [
    {
     "data": {
      "text/plain": [
       "[0, 3, 6, 9]"
      ]
     },
     "execution_count": 41,
     "metadata": {},
     "output_type": "execute_result"
    }
   ],
   "source": [
    "A[::3] #Gives all index values that are a multiple of 3 (starting from 0)"
   ]
  },
  {
   "cell_type": "code",
   "execution_count": 42,
   "metadata": {},
   "outputs": [
    {
     "data": {
      "text/plain": [
       "[1, 3, 5]"
      ]
     },
     "execution_count": 42,
     "metadata": {},
     "output_type": "execute_result"
    }
   ],
   "source": [
    "A[1:7][::2] #Gives all index values from 1 to 6 with step size of 2"
   ]
  },
  {
   "cell_type": "markdown",
   "metadata": {},
   "source": [
    "### List Methods"
   ]
  },
  {
   "cell_type": "code",
   "execution_count": 43,
   "metadata": {},
   "outputs": [
    {
     "data": {
      "text/plain": [
       "[0, 1, 2, 3, 4, 5, 6, 7, 8, 9, 10]"
      ]
     },
     "execution_count": 43,
     "metadata": {},
     "output_type": "execute_result"
    }
   ],
   "source": [
    "# Appending a value in list (Insert a value in a list at the end)\n",
    "A.append(10) #Inserts the value at the 11th index\n",
    "A"
   ]
  },
  {
   "cell_type": "code",
   "execution_count": 44,
   "metadata": {},
   "outputs": [
    {
     "data": {
      "text/plain": [
       "[0, 1, 2, 3, 4, 5, 6, 7, 8, 9, 10, 11, 12, 13]"
      ]
     },
     "execution_count": 44,
     "metadata": {},
     "output_type": "execute_result"
    }
   ],
   "source": [
    "#Appending a list into a list\n",
    "A.extend([11,12,13])\n",
    "A"
   ]
  },
  {
   "cell_type": "code",
   "execution_count": 45,
   "metadata": {},
   "outputs": [
    {
     "data": {
      "text/plain": [
       "[0, 1, 2, 14, 3, 4, 5, 6, 7, 8, 9, 10, 11, 12, 13]"
      ]
     },
     "execution_count": 45,
     "metadata": {},
     "output_type": "execute_result"
    }
   ],
   "source": [
    "#Inserting an element in a list at a certain index\n",
    "A.insert(3, 14) #Inserts the value 14 at the 4th index\n",
    "A"
   ]
  },
  {
   "cell_type": "code",
   "execution_count": 46,
   "metadata": {},
   "outputs": [
    {
     "data": {
      "text/plain": [
       "[0, 1, 2, 3, 4, 5, 6, 7, 8, 9, 10, 11, 12, 13]"
      ]
     },
     "execution_count": 46,
     "metadata": {},
     "output_type": "execute_result"
    }
   ],
   "source": [
    "#Removing a value from the list (removes the first occurence of this value)\n",
    "A.remove(14)\n",
    "A"
   ]
  },
  {
   "cell_type": "code",
   "execution_count": 47,
   "metadata": {},
   "outputs": [
    {
     "data": {
      "text/plain": [
       "[0, 1, 2, 3, 4, 5, 6, 7, 8, 9, 10, 11, 12]"
      ]
     },
     "execution_count": 47,
     "metadata": {},
     "output_type": "execute_result"
    }
   ],
   "source": [
    "#Removing a value at an index from the list\n",
    "A.pop(-1)\n",
    "A"
   ]
  },
  {
   "cell_type": "code",
   "execution_count": 48,
   "metadata": {},
   "outputs": [
    {
     "data": {
      "text/plain": [
       "[]"
      ]
     },
     "execution_count": 48,
     "metadata": {},
     "output_type": "execute_result"
    }
   ],
   "source": [
    "#Clearing all values of a list\n",
    "A.clear()\n",
    "A"
   ]
  },
  {
   "cell_type": "code",
   "execution_count": 49,
   "metadata": {},
   "outputs": [
    {
     "data": {
      "text/plain": [
       "5"
      ]
     },
     "execution_count": 49,
     "metadata": {},
     "output_type": "execute_result"
    }
   ],
   "source": [
    "#Getting a particular index of a value (Gives the first occurence)\n",
    "A = [2,4,10,8,10,12,14,16,12,17]\n",
    "A.index(12) #First occurence of 12 is at 6th index"
   ]
  },
  {
   "cell_type": "code",
   "execution_count": 50,
   "metadata": {},
   "outputs": [
    {
     "data": {
      "text/plain": [
       "8"
      ]
     },
     "execution_count": 50,
     "metadata": {},
     "output_type": "execute_result"
    }
   ],
   "source": [
    "#Getting the first occurence of a value in a particular part of the list\n",
    "A.index(12, 7, 10) #First occurence of value 12 between the indices 8 and 10"
   ]
  },
  {
   "cell_type": "code",
   "execution_count": 51,
   "metadata": {},
   "outputs": [
    {
     "data": {
      "text/plain": [
       "2"
      ]
     },
     "execution_count": 51,
     "metadata": {},
     "output_type": "execute_result"
    }
   ],
   "source": [
    "#Counting the number of occurences of a value\n",
    "A.count(12)"
   ]
  },
  {
   "cell_type": "code",
   "execution_count": 52,
   "metadata": {},
   "outputs": [
    {
     "data": {
      "text/plain": [
       "[2, 4, 8, 10, 10, 12, 12, 14, 16, 17]"
      ]
     },
     "execution_count": 52,
     "metadata": {},
     "output_type": "execute_result"
    }
   ],
   "source": [
    "#Sorting the list inplace\n",
    "A.sort() #By default ascending\n",
    "A"
   ]
  },
  {
   "cell_type": "code",
   "execution_count": 53,
   "metadata": {},
   "outputs": [
    {
     "data": {
      "text/plain": [
       "[17, 16, 14, 12, 12, 10, 10, 8, 4, 2]"
      ]
     },
     "execution_count": 53,
     "metadata": {},
     "output_type": "execute_result"
    }
   ],
   "source": [
    "#Sorting in descending order\n",
    "A.sort(reverse = True)\n",
    "A"
   ]
  },
  {
   "cell_type": "code",
   "execution_count": 54,
   "metadata": {},
   "outputs": [
    {
     "data": {
      "text/plain": [
       "['Moiz',\n",
       " 'Noor',\n",
       " 'Adnan',\n",
       " 'Ehsan',\n",
       " 'Hassan',\n",
       " 'Darain',\n",
       " 'Touseef',\n",
       " 'Daniyal',\n",
       " 'Abdul Wahab']"
      ]
     },
     "execution_count": 54,
     "metadata": {},
     "output_type": "execute_result"
    }
   ],
   "source": [
    "#Sorting list based on some property\n",
    "names = ['Adnan', 'Moiz',  'Ehsan', 'Hassan', 'Abdul Wahab', 'Darain', 'Touseef', 'Daniyal', 'Noor']\n",
    "names.sort(key = len) #Sorts in ascending order of number of characters in names\n",
    "names"
   ]
  },
  {
   "cell_type": "code",
   "execution_count": 55,
   "metadata": {},
   "outputs": [
    {
     "data": {
      "text/plain": [
       "[17, 12, 16, 14, 12, 10, 8, 10, 4, 2]"
      ]
     },
     "execution_count": 55,
     "metadata": {},
     "output_type": "execute_result"
    }
   ],
   "source": [
    "#Reverse elements of the list in place\n",
    "A = [2,4,10,8,10,12,14,16,12,17]\n",
    "A.reverse()\n",
    "A"
   ]
  },
  {
   "cell_type": "code",
   "execution_count": 56,
   "metadata": {},
   "outputs": [
    {
     "data": {
      "text/plain": [
       "[17, 12, 16, 14, 12, 10, 8, 10, 4, 2]"
      ]
     },
     "execution_count": 56,
     "metadata": {},
     "output_type": "execute_result"
    }
   ],
   "source": [
    "#Creating a shallow copy of the list\n",
    "B = A.copy()\n",
    "B"
   ]
  },
  {
   "cell_type": "markdown",
   "metadata": {},
   "source": [
    "### Sequence Methods\n",
    "These methods are applicable for all types of sequences"
   ]
  },
  {
   "cell_type": "code",
   "execution_count": 57,
   "metadata": {},
   "outputs": [
    {
     "data": {
      "text/plain": [
       "False"
      ]
     },
     "execution_count": 57,
     "metadata": {},
     "output_type": "execute_result"
    }
   ],
   "source": [
    "#Searching for a value in a list (returns a Boolean)\n",
    "5 in A"
   ]
  },
  {
   "cell_type": "code",
   "execution_count": 58,
   "metadata": {},
   "outputs": [
    {
     "data": {
      "text/plain": [
       "True"
      ]
     },
     "execution_count": 58,
     "metadata": {},
     "output_type": "execute_result"
    }
   ],
   "source": [
    "#Complimentary Search (returns a Boolean)\n",
    "5 not in A"
   ]
  },
  {
   "cell_type": "code",
   "execution_count": 59,
   "metadata": {},
   "outputs": [
    {
     "data": {
      "text/plain": [
       "[17, 12, 16, 14, 12, 10, 8, 10, 4, 2, 17, 12, 16, 14, 12, 10, 8, 10, 4, 2]"
      ]
     },
     "execution_count": 59,
     "metadata": {},
     "output_type": "execute_result"
    }
   ],
   "source": [
    "#Concatenation\n",
    "A + B"
   ]
  },
  {
   "cell_type": "code",
   "execution_count": 60,
   "metadata": {},
   "outputs": [
    {
     "data": {
      "text/plain": [
       "[17, 12, 16, 14, 12, 10, 8, 10, 4, 2, 17, 12, 16, 14, 12, 10, 8, 10, 4, 2]"
      ]
     },
     "execution_count": 60,
     "metadata": {},
     "output_type": "execute_result"
    }
   ],
   "source": [
    "#Multiplicity (Repetiting the same list by n factors)\n",
    "A * 2"
   ]
  },
  {
   "cell_type": "code",
   "execution_count": 61,
   "metadata": {},
   "outputs": [
    {
     "data": {
      "text/plain": [
       "10"
      ]
     },
     "execution_count": 61,
     "metadata": {},
     "output_type": "execute_result"
    }
   ],
   "source": [
    "#Finding length of the list\n",
    "len(A)"
   ]
  },
  {
   "cell_type": "code",
   "execution_count": 62,
   "metadata": {},
   "outputs": [
    {
     "data": {
      "text/plain": [
       "2"
      ]
     },
     "execution_count": 62,
     "metadata": {},
     "output_type": "execute_result"
    }
   ],
   "source": [
    "#Finding the minimum element of a list\n",
    "min(A)"
   ]
  },
  {
   "cell_type": "code",
   "execution_count": 63,
   "metadata": {},
   "outputs": [
    {
     "data": {
      "text/plain": [
       "17"
      ]
     },
     "execution_count": 63,
     "metadata": {},
     "output_type": "execute_result"
    }
   ],
   "source": [
    "#Finding the maximum element of a list\n",
    "max(A)"
   ]
  },
  {
   "cell_type": "markdown",
   "metadata": {},
   "source": [
    "### Mutable Property of Lists"
   ]
  },
  {
   "cell_type": "code",
   "execution_count": 64,
   "metadata": {},
   "outputs": [
    {
     "data": {
      "text/plain": [
       "[17, 12, 16, 5, 12, 10, 8, 10, 4, 2]"
      ]
     },
     "execution_count": 64,
     "metadata": {},
     "output_type": "execute_result"
    }
   ],
   "source": [
    "# Replace a value at a certain index in a list\n",
    "A[3] = 5 #Replace the value stored at the index 3 with the value 5\n",
    "A"
   ]
  },
  {
   "cell_type": "code",
   "execution_count": 69,
   "metadata": {},
   "outputs": [
    {
     "data": {
      "text/plain": [
       "[17, 12, 16, 8, 3, 4, 8, 10, 4, 2]"
      ]
     },
     "execution_count": 69,
     "metadata": {},
     "output_type": "execute_result"
    }
   ],
   "source": [
    "# Replacing a set of values using slicing\n",
    "A[3:6] = [8,3,4] #Assigns the values 8,3,4 to the indices 3,4,5 respectively\n",
    "A"
   ]
  },
  {
   "cell_type": "markdown",
   "metadata": {},
   "source": [
    "### Lists as Stacks\n",
    "We can treat Lists as stack data structures (LIFO) based by using the append() method as PUSH and pop() method as POP"
   ]
  },
  {
   "cell_type": "code",
   "execution_count": 77,
   "metadata": {},
   "outputs": [
    {
     "data": {
      "text/plain": [
       "[1, 2, 6]"
      ]
     },
     "execution_count": 77,
     "metadata": {},
     "output_type": "execute_result"
    }
   ],
   "source": [
    "# List as Stack \n",
    "# Suppose we want to create a stack that calls the processes in the following order\n",
    "# PUSH 1, PUSH 2, PUSH 3, PUSH 4, POP, POP, PUSH 5, POP, PUSH 6, PUSH 7, POP\n",
    "\n",
    "stack = []\n",
    "stack.append(1)\n",
    "stack.append(2)\n",
    "stack.append(3)\n",
    "stack.append(4)\n",
    "stack.pop()\n",
    "stack.pop()\n",
    "stack.append(5)\n",
    "stack.pop()\n",
    "stack.append(6)\n",
    "stack.append(7)\n",
    "stack.pop()\n",
    "stack"
   ]
  },
  {
   "cell_type": "markdown",
   "metadata": {},
   "source": [
    "### Lists as Queues\n",
    "We can treat Lists as queue data structures (FIFO) based by using the collections.deque object which allows to append and pop values efficiently "
   ]
  },
  {
   "cell_type": "code",
   "execution_count": 78,
   "metadata": {},
   "outputs": [
    {
     "data": {
      "text/plain": [
       "deque([4, 5, 6, 7])"
      ]
     },
     "execution_count": 78,
     "metadata": {},
     "output_type": "execute_result"
    }
   ],
   "source": [
    "#Importing collections.deque\n",
    "from collections import deque\n",
    "\n",
    "#Suppose we want to create a queue based on the following processes:\n",
    "# ENQUEUE 1, ENQUEUE 2, ENQUEUE 3, ENQUEUE 4, DEQUEUE, DEQUEUE, ENQUEUE 5, DEQUEUE, ENQUEUE 6, ENQUEUE 7, DEQUEUE\n",
    "\n",
    "queue = deque([])\n",
    "queue.append(1)\n",
    "queue.append(2)\n",
    "queue.append(3)\n",
    "queue.append(4)\n",
    "queue.popleft() #popleft because this is a double ended queue acting as a queue\n",
    "queue.append(5)\n",
    "queue.popleft()\n",
    "queue.append(6)\n",
    "queue.append(7)\n",
    "queue.popleft()\n",
    "queue"
   ]
  },
  {
   "cell_type": "markdown",
   "metadata": {},
   "source": [
    "### List Comprehension\n",
    "List Comprehension allows to create lists based on conditions or functions"
   ]
  },
  {
   "cell_type": "code",
   "execution_count": 80,
   "metadata": {},
   "outputs": [
    {
     "data": {
      "text/plain": [
       "[0, 1, 4, 9, 16, 25, 36, 49, 64, 81]"
      ]
     },
     "execution_count": 80,
     "metadata": {},
     "output_type": "execute_result"
    }
   ],
   "source": [
    "A = [x**2 for x in range(10)] #Creates a list with values [0,1,4,9,16,25,36,49,64,81]\n",
    "A"
   ]
  },
  {
   "cell_type": "code",
   "execution_count": 82,
   "metadata": {},
   "outputs": [
    {
     "data": {
      "text/plain": [
       "[34, 46, 92, 16]"
      ]
     },
     "execution_count": 82,
     "metadata": {},
     "output_type": "execute_result"
    }
   ],
   "source": [
    "A = [x for x in [1,65,34,23,87,46,87,29,92,16] if x%2 == 0] #Stores only even numbers from the provided array\n",
    "A"
   ]
  },
  {
   "cell_type": "code",
   "execution_count": 83,
   "metadata": {},
   "outputs": [
    {
     "data": {
      "text/plain": [
       "[(0, 0),\n",
       " (1, 1),\n",
       " (2, 4),\n",
       " (3, 9),\n",
       " (4, 16),\n",
       " (5, 25),\n",
       " (6, 36),\n",
       " (7, 49),\n",
       " (8, 64),\n",
       " (9, 81)]"
      ]
     },
     "execution_count": 83,
     "metadata": {},
     "output_type": "execute_result"
    }
   ],
   "source": [
    "A = [(x, x**2) for x in range(10)] #Creates list of tuples of values with their squares\n",
    "A"
   ]
  },
  {
   "cell_type": "code",
   "execution_count": 85,
   "metadata": {},
   "outputs": [
    {
     "data": {
      "text/plain": [
       "[1, 2, 3, 4, 5, 6, 7, 8, 9]"
      ]
     },
     "execution_count": 85,
     "metadata": {},
     "output_type": "execute_result"
    }
   ],
   "source": [
    "A = [[1,2,3], [4,5,6], [7,8,9]]\n",
    "A = [x for i in A for x in i] #Flattens the previous list\n",
    "A"
   ]
  },
  {
   "cell_type": "code",
   "execution_count": 87,
   "metadata": {},
   "outputs": [
    {
     "data": {
      "text/plain": [
       "[[1, 2, 3, 4], [5, 6, 7, 8], [9, 10, 11, 12]]"
      ]
     },
     "execution_count": 87,
     "metadata": {},
     "output_type": "execute_result"
    }
   ],
   "source": [
    "#Nested List Comprehensions\n",
    "matrix = [\n",
    "    [1,2,3,4],\n",
    "    [5,6,7,8],\n",
    "    [9,10,11,12],\n",
    "]\n",
    "\n",
    "matrix"
   ]
  },
  {
   "cell_type": "code",
   "execution_count": 89,
   "metadata": {},
   "outputs": [
    {
     "data": {
      "text/plain": [
       "[[1, 5, 9], [2, 6, 10], [3, 7, 11], [4, 8, 12]]"
      ]
     },
     "execution_count": 89,
     "metadata": {},
     "output_type": "execute_result"
    }
   ],
   "source": [
    "#Using list comprehension to transpose the matrix\n",
    "transMat = [[row[i] for row in matrix] for i in range(len(matrix[0]))]\n",
    "transMat"
   ]
  },
  {
   "cell_type": "markdown",
   "metadata": {},
   "source": [
    "## Del Statement\n",
    "Allows to delete elements from a list either single index, slice of indices or whole list"
   ]
  },
  {
   "cell_type": "code",
   "execution_count": 91,
   "metadata": {},
   "outputs": [
    {
     "data": {
      "text/plain": [
       "[0, 1, 3, 4, 5, 6, 7, 8, 9]"
      ]
     },
     "execution_count": 91,
     "metadata": {},
     "output_type": "execute_result"
    }
   ],
   "source": [
    "A = [x for x in range(10)] #Creates a list of values from 0-9\n",
    "del A[2] #deletes index 2 from the list\n",
    "A"
   ]
  },
  {
   "cell_type": "code",
   "execution_count": 92,
   "metadata": {},
   "outputs": [
    {
     "data": {
      "text/plain": [
       "[0, 1, 3, 4, 7, 8, 9]"
      ]
     },
     "execution_count": 92,
     "metadata": {},
     "output_type": "execute_result"
    }
   ],
   "source": [
    "del A[4:6] #deletes values in the slice [4:6]\n",
    "A"
   ]
  },
  {
   "cell_type": "code",
   "execution_count": 93,
   "metadata": {},
   "outputs": [
    {
     "data": {
      "text/plain": [
       "[]"
      ]
     },
     "execution_count": 93,
     "metadata": {},
     "output_type": "execute_result"
    }
   ],
   "source": [
    "del A[:] #deletes all elements of the list\n",
    "A"
   ]
  },
  {
   "cell_type": "markdown",
   "metadata": {},
   "source": [
    "## Tuples"
   ]
  },
  {
   "cell_type": "code",
   "execution_count": 94,
   "metadata": {},
   "outputs": [
    {
     "data": {
      "text/plain": [
       "('hello', 2, 'world')"
      ]
     },
     "execution_count": 94,
     "metadata": {},
     "output_type": "execute_result"
    }
   ],
   "source": [
    "#Creating a tuple\n",
    "A = \"hello\", 2, \"world\"\n",
    "A"
   ]
  },
  {
   "cell_type": "code",
   "execution_count": 95,
   "metadata": {},
   "outputs": [
    {
     "data": {
      "text/plain": [
       "'hello'"
      ]
     },
     "execution_count": 95,
     "metadata": {},
     "output_type": "execute_result"
    }
   ],
   "source": [
    "#Getting a particular value at a particular index\n",
    "A[0]"
   ]
  },
  {
   "cell_type": "code",
   "execution_count": 97,
   "metadata": {},
   "outputs": [
    {
     "data": {
      "text/plain": [
       "(('hello', 2, 'world'), ('friend', 'num', 5))"
      ]
     },
     "execution_count": 97,
     "metadata": {},
     "output_type": "execute_result"
    }
   ],
   "source": [
    "#Creating a nested tuple\n",
    "u = A, (\"friend\", \"num\", 5)\n",
    "u"
   ]
  },
  {
   "cell_type": "code",
   "execution_count": 98,
   "metadata": {},
   "outputs": [
    {
     "ename": "TypeError",
     "evalue": "'tuple' object does not support item assignment",
     "output_type": "error",
     "traceback": [
      "\u001b[1;31m---------------------------------------------------------------------------\u001b[0m",
      "\u001b[1;31mTypeError\u001b[0m                                 Traceback (most recent call last)",
      "\u001b[1;32m<ipython-input-98-f9c2e432ecc4>\u001b[0m in \u001b[0;36m<module>\u001b[1;34m\u001b[0m\n\u001b[0;32m      1\u001b[0m \u001b[1;31m#Tuples are immutable\u001b[0m\u001b[1;33m\u001b[0m\u001b[1;33m\u001b[0m\u001b[1;33m\u001b[0m\u001b[0m\n\u001b[1;32m----> 2\u001b[1;33m \u001b[0mA\u001b[0m\u001b[1;33m[\u001b[0m\u001b[1;36m0\u001b[0m\u001b[1;33m]\u001b[0m \u001b[1;33m=\u001b[0m \u001b[1;34m\"not hello\"\u001b[0m\u001b[1;33m\u001b[0m\u001b[1;33m\u001b[0m\u001b[0m\n\u001b[0m",
      "\u001b[1;31mTypeError\u001b[0m: 'tuple' object does not support item assignment"
     ]
    }
   ],
   "source": [
    "#Tuples are immutable\n",
    "A[0] = \"not hello\""
   ]
  },
  {
   "cell_type": "code",
   "execution_count": 99,
   "metadata": {},
   "outputs": [
    {
     "data": {
      "text/plain": [
       "'hello'"
      ]
     },
     "execution_count": 99,
     "metadata": {},
     "output_type": "execute_result"
    }
   ],
   "source": [
    "#Unpacking values from a tuple\n",
    "x, y, z = A\n",
    "x"
   ]
  },
  {
   "cell_type": "code",
   "execution_count": 106,
   "metadata": {},
   "outputs": [
    {
     "data": {
      "text/plain": [
       "['hello', 2, 'world']"
      ]
     },
     "execution_count": 106,
     "metadata": {},
     "output_type": "execute_result"
    }
   ],
   "source": [
    "#unpacking values from tuple into a list\n",
    "args = [*A]\n",
    "args"
   ]
  },
  {
   "cell_type": "markdown",
   "metadata": {},
   "source": [
    "### Sequence Methods"
   ]
  },
  {
   "cell_type": "code",
   "execution_count": 107,
   "metadata": {},
   "outputs": [
    {
     "data": {
      "text/plain": [
       "3"
      ]
     },
     "execution_count": 107,
     "metadata": {},
     "output_type": "execute_result"
    }
   ],
   "source": [
    "# Finding length of a tuple\n",
    "len(A)"
   ]
  },
  {
   "cell_type": "code",
   "execution_count": 109,
   "metadata": {},
   "outputs": [
    {
     "data": {
      "text/plain": [
       "7"
      ]
     },
     "execution_count": 109,
     "metadata": {},
     "output_type": "execute_result"
    }
   ],
   "source": [
    "# Finding max value from a tuple\n",
    "A = (2,5,7,4,3,5,2)\n",
    "max(A)"
   ]
  },
  {
   "cell_type": "code",
   "execution_count": 110,
   "metadata": {},
   "outputs": [
    {
     "data": {
      "text/plain": [
       "2"
      ]
     },
     "execution_count": 110,
     "metadata": {},
     "output_type": "execute_result"
    }
   ],
   "source": [
    "#Finding minimum value from a tuple\n",
    "min(A)"
   ]
  },
  {
   "cell_type": "code",
   "execution_count": 111,
   "metadata": {},
   "outputs": [
    {
     "data": {
      "text/plain": [
       "2"
      ]
     },
     "execution_count": 111,
     "metadata": {},
     "output_type": "execute_result"
    }
   ],
   "source": [
    "#Finding the occurence of a value in a tuple\n",
    "A.count(5)"
   ]
  },
  {
   "cell_type": "code",
   "execution_count": 112,
   "metadata": {},
   "outputs": [
    {
     "data": {
      "text/plain": [
       "(2, 5, 7, 4, 3, 5, 2, 1, 2, 3)"
      ]
     },
     "execution_count": 112,
     "metadata": {},
     "output_type": "execute_result"
    }
   ],
   "source": [
    "#Concatenation\n",
    "B = (1,2,3)\n",
    "A + B"
   ]
  },
  {
   "cell_type": "markdown",
   "metadata": {},
   "source": [
    "## Sets"
   ]
  },
  {
   "cell_type": "code",
   "execution_count": 113,
   "metadata": {},
   "outputs": [
    {
     "data": {
      "text/plain": [
       "set()"
      ]
     },
     "execution_count": 113,
     "metadata": {},
     "output_type": "execute_result"
    }
   ],
   "source": [
    "#Creating empty set\n",
    "A = set()\n",
    "A"
   ]
  },
  {
   "cell_type": "code",
   "execution_count": 114,
   "metadata": {},
   "outputs": [
    {
     "data": {
      "text/plain": [
       "{'a', 'b', 'c', 'd', 'e'}"
      ]
     },
     "execution_count": 114,
     "metadata": {},
     "output_type": "execute_result"
    }
   ],
   "source": [
    "#Creating an initialized set\n",
    "A = {'a','b','c','d','e'}\n",
    "A"
   ]
  },
  {
   "cell_type": "code",
   "execution_count": 115,
   "metadata": {},
   "outputs": [
    {
     "data": {
      "text/plain": [
       "{'a', 'b', 'c', 'd', 'e'}"
      ]
     },
     "execution_count": 115,
     "metadata": {},
     "output_type": "execute_result"
    }
   ],
   "source": [
    "#Set removes common elements by default\n",
    "A = {'a','b','b','c','d','e','e'}\n",
    "A"
   ]
  },
  {
   "cell_type": "markdown",
   "metadata": {},
   "source": [
    "### Set Operations"
   ]
  },
  {
   "cell_type": "code",
   "execution_count": 116,
   "metadata": {},
   "outputs": [
    {
     "data": {
      "text/plain": [
       "{'c', 'd'}"
      ]
     },
     "execution_count": 116,
     "metadata": {},
     "output_type": "execute_result"
    }
   ],
   "source": [
    "# Common letters in two sets (intersection)\n",
    "A = {'a','b','c', 'd'}\n",
    "B = {'c', 'd', 'e', 'f'}\n",
    "A & B"
   ]
  },
  {
   "cell_type": "code",
   "execution_count": 117,
   "metadata": {},
   "outputs": [
    {
     "data": {
      "text/plain": [
       "{'a', 'b'}"
      ]
     },
     "execution_count": 117,
     "metadata": {},
     "output_type": "execute_result"
    }
   ],
   "source": [
    "#Letters in A but not in B (Set difference)\n",
    "A - B"
   ]
  },
  {
   "cell_type": "code",
   "execution_count": 118,
   "metadata": {},
   "outputs": [
    {
     "data": {
      "text/plain": [
       "{'a', 'b', 'c', 'd', 'e', 'f'}"
      ]
     },
     "execution_count": 118,
     "metadata": {},
     "output_type": "execute_result"
    }
   ],
   "source": [
    "#Letters in A or B or both (Union)\n",
    "A | B"
   ]
  },
  {
   "cell_type": "code",
   "execution_count": 119,
   "metadata": {},
   "outputs": [
    {
     "data": {
      "text/plain": [
       "{'a', 'b', 'e', 'f'}"
      ]
     },
     "execution_count": 119,
     "metadata": {},
     "output_type": "execute_result"
    }
   ],
   "source": [
    "#Letters present in either A or B but not both (Symmetric Difference)\n",
    "A ^ B"
   ]
  },
  {
   "cell_type": "code",
   "execution_count": 120,
   "metadata": {},
   "outputs": [
    {
     "data": {
      "text/plain": [
       "{'I', 'M', 'P', 'S'}"
      ]
     },
     "execution_count": 120,
     "metadata": {},
     "output_type": "execute_result"
    }
   ],
   "source": [
    "# Set comprehension\n",
    "A = {x for x in 'MISSISSIPI'} #Creates a set with common characters from given word\n",
    "A"
   ]
  },
  {
   "cell_type": "code",
   "execution_count": 3,
   "metadata": {},
   "outputs": [
    {
     "data": {
      "text/plain": [
       "True"
      ]
     },
     "execution_count": 3,
     "metadata": {},
     "output_type": "execute_result"
    }
   ],
   "source": [
    "# Set IsDisjoint\n",
    "A = {'a','b','c','d'}\n",
    "B = {'e','f','g','h'}\n",
    "A.isdisjoint(B) #Checks if A and B are disjoint or not"
   ]
  },
  {
   "cell_type": "code",
   "execution_count": 5,
   "metadata": {},
   "outputs": [
    {
     "name": "stdout",
     "output_type": "stream",
     "text": [
      "True\n",
      "True\n",
      "True\n"
     ]
    }
   ],
   "source": [
    "# Checking for subset\n",
    "A = {'a','b','c','d'}\n",
    "B = {'a','b'}\n",
    "print(B.issubset(A)) #Object method for checking subset\n",
    "print(B <= A) #Symbol method for checking subset\n",
    "print(B < A) #Symbol method for checking proper subset"
   ]
  },
  {
   "cell_type": "code",
   "execution_count": 6,
   "metadata": {},
   "outputs": [
    {
     "name": "stdout",
     "output_type": "stream",
     "text": [
      "True\n",
      "True\n",
      "True\n"
     ]
    }
   ],
   "source": [
    "# Checking for superset\n",
    "print(A.issuperset(B)) #Object method for checking superset\n",
    "print(A >= B) #Symbol method for checking superset\n",
    "print(A > B) #Symbol method for checking proper superset"
   ]
  },
  {
   "cell_type": "code",
   "execution_count": 7,
   "metadata": {},
   "outputs": [
    {
     "name": "stdout",
     "output_type": "stream",
     "text": [
      "{1, 'c', 'b', 'a', 2, 3}\n",
      "{1, 'c', 'b', 'a', 2, 3, 'Hello', 'World'}\n"
     ]
    }
   ],
   "source": [
    "# Applying Union\n",
    "A = {'a', 'b', 'c'}\n",
    "B = {1, 2, 3}\n",
    "C = {'Hello', 'World'}\n",
    "print(A.union(B)) #Object method to return union of set A and B\n",
    "print(A.union(B,C)) #Object method to return union of sets A, B and C"
   ]
  },
  {
   "cell_type": "code",
   "execution_count": 8,
   "metadata": {},
   "outputs": [
    {
     "name": "stdout",
     "output_type": "stream",
     "text": [
      "{'b', 'a'}\n",
      "{'a'}\n"
     ]
    }
   ],
   "source": [
    "# Applying Intersection\n",
    "A = {'a', 'b', 'c'}\n",
    "B = {'a', 1, 2, 3}\n",
    "C = {'a', 'b'}\n",
    "print(A.intersection(C)) #Object method to return intersection of set A and B\n",
    "print(A.intersection(B,C)) #Object method to return intersection of sets A, B and C"
   ]
  },
  {
   "cell_type": "code",
   "execution_count": 9,
   "metadata": {},
   "outputs": [
    {
     "name": "stdout",
     "output_type": "stream",
     "text": [
      "{'c'}\n",
      "{'c'}\n"
     ]
    }
   ],
   "source": [
    "# Applying Set Difference\n",
    "A = {'a', 'b', 'c'}\n",
    "B = {'a', 1, 2, 3}\n",
    "C = {'a', 'b'}\n",
    "print(A.difference(C)) #Object method to return difference of set A and B\n",
    "print(A.difference(B,C)) #Object method to return difference of sets A, B and C"
   ]
  },
  {
   "cell_type": "code",
   "execution_count": 10,
   "metadata": {},
   "outputs": [
    {
     "data": {
      "text/plain": [
       "{'b', 'e', 'g'}"
      ]
     },
     "execution_count": 10,
     "metadata": {},
     "output_type": "execute_result"
    }
   ],
   "source": [
    "# Applying Symmetric Difference\n",
    "A = {'a','b','c'}\n",
    "B = {'a', 'e', 'c', 'g'}\n",
    "A.symmetric_difference(B) #Object method to return symmetric differnce of sets A and B"
   ]
  },
  {
   "cell_type": "code",
   "execution_count": 11,
   "metadata": {},
   "outputs": [
    {
     "data": {
      "text/plain": [
       "frozenset({'a', 'b', 'c'})"
      ]
     },
     "execution_count": 11,
     "metadata": {},
     "output_type": "execute_result"
    }
   ],
   "source": [
    "#Creating a frozen set (Immutable set type)\n",
    "fset = frozenset(['a', 'b', 'c'])\n",
    "fset"
   ]
  },
  {
   "cell_type": "code",
   "execution_count": 18,
   "metadata": {},
   "outputs": [
    {
     "name": "stdout",
     "output_type": "stream",
     "text": [
      "c\n",
      "b\n",
      "a\n"
     ]
    }
   ],
   "source": [
    "#Obtaining a value from a set/frozenset\n",
    "for i in fset:\n",
    "    print(i)"
   ]
  },
  {
   "cell_type": "markdown",
   "metadata": {},
   "source": [
    "### Mutable Set Methods (Only Applicable on Sets but not on FrozenSets)"
   ]
  },
  {
   "cell_type": "code",
   "execution_count": 20,
   "metadata": {},
   "outputs": [
    {
     "name": "stdout",
     "output_type": "stream",
     "text": [
      "{'c', 'b', 'a', 'e', 'd'}\n",
      "{'b', 'c', 'a'}\n",
      "{'b', 'a'}\n",
      "{'b', 'a'}\n"
     ]
    }
   ],
   "source": [
    "#Updating values in a set\n",
    "A = {'a', 'b', 'c'}\n",
    "A.update({'a', 'd', 'e'}) #Updates the value of set A by adding elements\n",
    "print(A)\n",
    "A.intersection_update({'a','b','b','c'}) #Updates the value of set A got from intersection\n",
    "print(A)\n",
    "A.difference_update({'c'}) #Updates the value of set A got from difference\n",
    "print(A)\n",
    "A.symmetric_difference({'b','d','e'}) #Updates the value of set A from symmetric difference\n",
    "print(A)"
   ]
  },
  {
   "cell_type": "code",
   "execution_count": 21,
   "metadata": {},
   "outputs": [
    {
     "data": {
      "text/plain": [
       "{'a'}"
      ]
     },
     "execution_count": 21,
     "metadata": {},
     "output_type": "execute_result"
    }
   ],
   "source": [
    "#Add a new element to the set\n",
    "A = set()\n",
    "A.add('a')\n",
    "A"
   ]
  },
  {
   "cell_type": "code",
   "execution_count": 22,
   "metadata": {},
   "outputs": [
    {
     "data": {
      "text/plain": [
       "{'a', 'b', 'd'}"
      ]
     },
     "execution_count": 22,
     "metadata": {},
     "output_type": "execute_result"
    }
   ],
   "source": [
    "#Remove an element from the set\n",
    "A = {'a', 'b', 'c', 'd'}\n",
    "A.remove('c')\n",
    "A"
   ]
  },
  {
   "cell_type": "code",
   "execution_count": 23,
   "metadata": {},
   "outputs": [
    {
     "data": {
      "text/plain": [
       "{'a', 'b', 'd'}"
      ]
     },
     "execution_count": 23,
     "metadata": {},
     "output_type": "execute_result"
    }
   ],
   "source": [
    "#Alternate method for removing element from set\n",
    "A = {'a', 'b', 'c', 'd'}\n",
    "A.discard('c')\n",
    "A"
   ]
  },
  {
   "cell_type": "code",
   "execution_count": 24,
   "metadata": {},
   "outputs": [
    {
     "data": {
      "text/plain": [
       "{'a', 'b', 'd'}"
      ]
     },
     "execution_count": 24,
     "metadata": {},
     "output_type": "execute_result"
    }
   ],
   "source": [
    "#Remove the last element from the set\n",
    "A = {'a', 'b', 'c', 'd'}\n",
    "A.pop()\n",
    "A"
   ]
  },
  {
   "cell_type": "code",
   "execution_count": 25,
   "metadata": {},
   "outputs": [
    {
     "data": {
      "text/plain": [
       "set()"
      ]
     },
     "execution_count": 25,
     "metadata": {},
     "output_type": "execute_result"
    }
   ],
   "source": [
    "#Clear the values of a set\n",
    "A.clear()\n",
    "A"
   ]
  },
  {
   "cell_type": "markdown",
   "metadata": {},
   "source": [
    "## Dictionaries"
   ]
  },
  {
   "cell_type": "code",
   "execution_count": 121,
   "metadata": {},
   "outputs": [
    {
     "data": {
      "text/plain": [
       "{}"
      ]
     },
     "execution_count": 121,
     "metadata": {},
     "output_type": "execute_result"
    }
   ],
   "source": [
    "#Creating an empty dictionary\n",
    "A = {}\n",
    "A"
   ]
  },
  {
   "cell_type": "code",
   "execution_count": 28,
   "metadata": {},
   "outputs": [
    {
     "name": "stdout",
     "output_type": "stream",
     "text": [
      "{'a': 1, 'b': 2, 'c': 3}\n",
      "{'a': 1, 'b': 2, 'c': 3}\n",
      "{'a': 1, 'b': 2, 'c': 3}\n",
      "{'a': 1, 'b': 2, 'c': 3}\n",
      "{'a': 1, 'b': 2, 'c': 3}\n"
     ]
    }
   ],
   "source": [
    "#Creating a dictionary with keys and values pairs\n",
    "A = {'a':1, 'b':2, 'c':3} #Using {}\n",
    "print(A)\n",
    "A = dict({'a':1, 'b':2, 'c':3}) #Using dict() with {}\n",
    "print(A)\n",
    "A = dict([('a',1), ('b',2), ('c',3)]) #Using dict() with (key, value) tuple list\n",
    "print(A)\n",
    "A = dict(zip(['a', 'b', 'c'], [1, 2, 3])) #Using dict() with zip(keyList, valueList) \n",
    "print(A)\n",
    "A = dict({}, a=1, b=2, c=3)\n",
    "print(A)"
   ]
  },
  {
   "cell_type": "code",
   "execution_count": 29,
   "metadata": {},
   "outputs": [
    {
     "data": {
      "text/plain": [
       "1"
      ]
     },
     "execution_count": 29,
     "metadata": {},
     "output_type": "execute_result"
    }
   ],
   "source": [
    "#Accessing a value from dict using a key\n",
    "A['a']"
   ]
  },
  {
   "cell_type": "code",
   "execution_count": 30,
   "metadata": {},
   "outputs": [
    {
     "data": {
      "text/plain": [
       "{'a': 5, 'b': 2, 'c': 3}"
      ]
     },
     "execution_count": 30,
     "metadata": {},
     "output_type": "execute_result"
    }
   ],
   "source": [
    "#Dictionaries' keys are immutable but their values can be changed\n",
    "A['a'] = 5\n",
    "A"
   ]
  },
  {
   "cell_type": "code",
   "execution_count": 31,
   "metadata": {},
   "outputs": [
    {
     "data": {
      "text/plain": [
       "['a', 'b', 'c']"
      ]
     },
     "execution_count": 31,
     "metadata": {},
     "output_type": "execute_result"
    }
   ],
   "source": [
    "#Sort keys in a Dictionary (Returns a list of keys)\n",
    "sorted(A)"
   ]
  },
  {
   "cell_type": "code",
   "execution_count": 32,
   "metadata": {},
   "outputs": [
    {
     "data": {
      "text/plain": [
       "True"
      ]
     },
     "execution_count": 32,
     "metadata": {},
     "output_type": "execute_result"
    }
   ],
   "source": [
    "#Check for a key in dicitonary\n",
    "'b' in A"
   ]
  },
  {
   "cell_type": "code",
   "execution_count": 35,
   "metadata": {},
   "outputs": [
    {
     "data": {
      "text/plain": [
       "['a', 'b', 'c']"
      ]
     },
     "execution_count": 35,
     "metadata": {},
     "output_type": "execute_result"
    }
   ],
   "source": [
    "#Converting dictionary into list\n",
    "list(A)"
   ]
  },
  {
   "cell_type": "code",
   "execution_count": 36,
   "metadata": {},
   "outputs": [
    {
     "data": {
      "text/plain": [
       "3"
      ]
     },
     "execution_count": 36,
     "metadata": {},
     "output_type": "execute_result"
    }
   ],
   "source": [
    "#Getting length of dictionary (Number of items in dictionary)\n",
    "len(A)"
   ]
  },
  {
   "cell_type": "code",
   "execution_count": 37,
   "metadata": {},
   "outputs": [
    {
     "data": {
      "text/plain": [
       "{'a': 1, 'b': 2}"
      ]
     },
     "execution_count": 37,
     "metadata": {},
     "output_type": "execute_result"
    }
   ],
   "source": [
    "#Removing a key from dictionary\n",
    "del A['c']\n",
    "A"
   ]
  },
  {
   "cell_type": "code",
   "execution_count": 42,
   "metadata": {},
   "outputs": [
    {
     "name": "stdout",
     "output_type": "stream",
     "text": [
      "a\n",
      "b\n"
     ]
    }
   ],
   "source": [
    "#Creating iterator based on dictionary\n",
    "iA = iter(A)\n",
    "print(iA.__next__())\n",
    "print(iA.__next__())"
   ]
  },
  {
   "cell_type": "code",
   "execution_count": 43,
   "metadata": {},
   "outputs": [
    {
     "data": {
      "text/plain": [
       "{}"
      ]
     },
     "execution_count": 43,
     "metadata": {},
     "output_type": "execute_result"
    }
   ],
   "source": [
    "#Clearing the dictionary values\n",
    "A.clear()\n",
    "A"
   ]
  },
  {
   "cell_type": "code",
   "execution_count": 7,
   "metadata": {},
   "outputs": [
    {
     "data": {
      "text/plain": [
       "{'a': None, 'b': None, 'c': None}"
      ]
     },
     "execution_count": 7,
     "metadata": {},
     "output_type": "execute_result"
    }
   ],
   "source": [
    "# Using the fromkeys method\n",
    "A = {'a':1, 'b':2, 'c':3}\n",
    "newdict = dict.fromkeys(A.keys()) #Creates a new dictionary with keys same as A\n",
    "newdict "
   ]
  },
  {
   "cell_type": "code",
   "execution_count": 8,
   "metadata": {},
   "outputs": [
    {
     "data": {
      "text/plain": [
       "1"
      ]
     },
     "execution_count": 8,
     "metadata": {},
     "output_type": "execute_result"
    }
   ],
   "source": [
    "#Getting value of a particular key in dictionary\n",
    "val = A.get('a') #Gets the value of the key 'a' in dict object A\n",
    "val"
   ]
  },
  {
   "cell_type": "code",
   "execution_count": 10,
   "metadata": {},
   "outputs": [
    {
     "data": {
      "text/plain": [
       "dict_items([('a', 1), ('b', 2), ('c', 3)])"
      ]
     },
     "execution_count": 10,
     "metadata": {},
     "output_type": "execute_result"
    }
   ],
   "source": [
    "#Getting the (key, value) pairs in dictionary\n",
    "A.items() #Allows to view the (key, value) pairs present in the dictionary"
   ]
  },
  {
   "cell_type": "code",
   "execution_count": 11,
   "metadata": {},
   "outputs": [
    {
     "data": {
      "text/plain": [
       "dict_keys(['a', 'b', 'c'])"
      ]
     },
     "execution_count": 11,
     "metadata": {},
     "output_type": "execute_result"
    }
   ],
   "source": [
    "#Getting the keys in the dictionary\n",
    "A.keys() #Allows to view the keys present in the dictionary"
   ]
  },
  {
   "cell_type": "code",
   "execution_count": 12,
   "metadata": {},
   "outputs": [
    {
     "data": {
      "text/plain": [
       "2"
      ]
     },
     "execution_count": 12,
     "metadata": {},
     "output_type": "execute_result"
    }
   ],
   "source": [
    "#Removing a key from a dictionary\n",
    "A.pop('b') #Removes the key 'b' from the dictionary and returns its value  "
   ]
  },
  {
   "cell_type": "code",
   "execution_count": 15,
   "metadata": {},
   "outputs": [
    {
     "data": {
      "text/plain": [
       "{'a': 2, 'b': 2, 'c': 4}"
      ]
     },
     "execution_count": 15,
     "metadata": {},
     "output_type": "execute_result"
    }
   ],
   "source": [
    "A = {'a':1, 'b':2, 'a':2, 'c':4} #For two keys with same values, the last value is considered\n",
    "A"
   ]
  },
  {
   "cell_type": "code",
   "execution_count": 16,
   "metadata": {},
   "outputs": [
    {
     "data": {
      "text/plain": [
       "('c', 4)"
      ]
     },
     "execution_count": 16,
     "metadata": {},
     "output_type": "execute_result"
    }
   ],
   "source": [
    "#Remove a (key, value) pair from a dictionary\n",
    "A.popitem() #Returns a (key, value) pair using LIFO method"
   ]
  },
  {
   "cell_type": "code",
   "execution_count": 18,
   "metadata": {},
   "outputs": [
    {
     "data": {
      "text/plain": [
       "<dict_reversekeyiterator at 0x2c1c73eb900>"
      ]
     },
     "execution_count": 18,
     "metadata": {},
     "output_type": "execute_result"
    }
   ],
   "source": [
    "#Reversing the keys of a dictionary\n",
    "reversed(A) #Returns an iterator for reversed key items"
   ]
  },
  {
   "cell_type": "code",
   "execution_count": 21,
   "metadata": {},
   "outputs": [
    {
     "data": {
      "text/plain": [
       "{'a': 2, 'b': 2, 'd': 5}"
      ]
     },
     "execution_count": 21,
     "metadata": {},
     "output_type": "execute_result"
    }
   ],
   "source": [
    "#Insert that key if not present in the dictionary with default value\n",
    "A.setdefault('d', 5) #Inserts the key 'd' in the dictionary and gives it the value 5\n",
    "A"
   ]
  },
  {
   "cell_type": "code",
   "execution_count": 23,
   "metadata": {},
   "outputs": [
    {
     "data": {
      "text/plain": [
       "{'a': 2, 'b': 3, 'd': 5, 'c': 4, 'e': 7}"
      ]
     },
     "execution_count": 23,
     "metadata": {},
     "output_type": "execute_result"
    }
   ],
   "source": [
    "#Adding/Updating new (key, value) pairs in a dictionary\n",
    "A.update(b = 3, c = 4, e = 7)\n",
    "A"
   ]
  },
  {
   "cell_type": "code",
   "execution_count": 24,
   "metadata": {},
   "outputs": [
    {
     "data": {
      "text/plain": [
       "dict_values([2, 3, 5, 4, 7])"
      ]
     },
     "execution_count": 24,
     "metadata": {},
     "output_type": "execute_result"
    }
   ],
   "source": [
    "#Getting the values of a dictionary\n",
    "A.values() #Returns a view of the values stored in the keys of a dictionary"
   ]
  },
  {
   "cell_type": "markdown",
   "metadata": {},
   "source": [
    "### DictView Objects\n",
    "Dictionary keys(), values() and items() return what we call dict view objects i.e. they show the view of contents of a dictionary"
   ]
  },
  {
   "cell_type": "code",
   "execution_count": 25,
   "metadata": {},
   "outputs": [
    {
     "name": "stdout",
     "output_type": "stream",
     "text": [
      "5\n",
      "<dict_valueiterator object at 0x000002C1C73DC9A0>\n",
      "True\n",
      "<dict_reverseitemiterator object at 0x000002C1C73DC9A0>\n"
     ]
    }
   ],
   "source": [
    "print(len(A.keys())) #Gives the number of keys in dicitonary\n",
    "print(iter(A.values())) #Gives an iterator object of values in dictionary\n",
    "print('a' in A.keys()) #Checks whether the key 'a' is present in dictionary\n",
    "print(reversed(A.items())) #Gives a reversed iterator over items of the dictionary"
   ]
  },
  {
   "cell_type": "markdown",
   "metadata": {},
   "source": [
    "## Strings"
   ]
  },
  {
   "cell_type": "code",
   "execution_count": 47,
   "metadata": {},
   "outputs": [],
   "source": [
    "#Creating Strings\n",
    "str1 = 'Hello' #Using single quotes\n",
    "str2 = \"Hello\" #Using double quotes"
   ]
  },
  {
   "cell_type": "code",
   "execution_count": 50,
   "metadata": {},
   "outputs": [
    {
     "name": "stdout",
     "output_type": "stream",
     "text": [
      "Hello\n",
      "Hello\n",
      "Hello and Hello\n"
     ]
    }
   ],
   "source": [
    "#Displaying strings \n",
    "print(str1) #Using print\n",
    "print('{}'.format(str1)) #Using the format() method\n",
    "print('{0} and {1}'.format(str1, str2)) #Using the format() method on list of arguments"
   ]
  },
  {
   "cell_type": "code",
   "execution_count": 51,
   "metadata": {},
   "outputs": [
    {
     "name": "stdout",
     "output_type": "stream",
     "text": [
      "Hello World\n"
     ]
    }
   ],
   "source": [
    "#Displaying strings using printf\n",
    "print(f'Hello World')"
   ]
  },
  {
   "cell_type": "code",
   "execution_count": 53,
   "metadata": {},
   "outputs": [
    {
     "data": {
      "text/plain": [
       "'Hello world'"
      ]
     },
     "execution_count": 53,
     "metadata": {},
     "output_type": "execute_result"
    }
   ],
   "source": [
    "#Capatilizing a string\n",
    "text = \"hello world\"\n",
    "text.capitalize()"
   ]
  },
  {
   "cell_type": "code",
   "execution_count": 54,
   "metadata": {},
   "outputs": [
    {
     "data": {
      "text/plain": [
       "'hello world'"
      ]
     },
     "execution_count": 54,
     "metadata": {},
     "output_type": "execute_result"
    }
   ],
   "source": [
    "#Apply casefolding to all kinds of text (including unicode)\n",
    "text = \"Hello World\"\n",
    "text.casefold()"
   ]
  },
  {
   "cell_type": "code",
   "execution_count": 58,
   "metadata": {},
   "outputs": [
    {
     "data": {
      "text/plain": [
       "'***Hello World***'"
      ]
     },
     "execution_count": 58,
     "metadata": {},
     "output_type": "execute_result"
    }
   ],
   "source": [
    "#Centering a string with some text\n",
    "text = \"Hello World\"\n",
    "text.center(len(text) + 6, '*') #Puts *** on both sides of the text "
   ]
  },
  {
   "cell_type": "code",
   "execution_count": 59,
   "metadata": {},
   "outputs": [
    {
     "data": {
      "text/plain": [
       "2"
      ]
     },
     "execution_count": 59,
     "metadata": {},
     "output_type": "execute_result"
    }
   ],
   "source": [
    "#Counting occurence of a character in a string (Applicable as strings are just character arrays)\n",
    "text = \"Hello World\"\n",
    "text.count('o') #Number of times 'o' occurs in the text"
   ]
  },
  {
   "cell_type": "code",
   "execution_count": 60,
   "metadata": {},
   "outputs": [
    {
     "data": {
      "text/plain": [
       "2"
      ]
     },
     "execution_count": 60,
     "metadata": {},
     "output_type": "execute_result"
    }
   ],
   "source": [
    "#Counting occurence of a character in a substring\n",
    "text.count('l', 0, 6) #Counts number of time 'l' occurs in the substring \"Hello \""
   ]
  },
  {
   "cell_type": "code",
   "execution_count": 61,
   "metadata": {},
   "outputs": [
    {
     "data": {
      "text/plain": [
       "b'Hello World'"
      ]
     },
     "execution_count": 61,
     "metadata": {},
     "output_type": "execute_result"
    }
   ],
   "source": [
    "#Encoding a string as utf-8\n",
    "text = \"Hello World\"\n",
    "text.encode('utf-8')"
   ]
  },
  {
   "cell_type": "code",
   "execution_count": 62,
   "metadata": {},
   "outputs": [
    {
     "data": {
      "text/plain": [
       "True"
      ]
     },
     "execution_count": 62,
     "metadata": {},
     "output_type": "execute_result"
    }
   ],
   "source": [
    "#Checking if string endswith a particular character or substring\n",
    "text = \"Hello World\"\n",
    "text.endswith('World')"
   ]
  },
  {
   "cell_type": "code",
   "execution_count": 63,
   "metadata": {},
   "outputs": [
    {
     "data": {
      "text/plain": [
       "'    Hello   World   !'"
      ]
     },
     "execution_count": 63,
     "metadata": {},
     "output_type": "execute_result"
    }
   ],
   "source": [
    "#Manipulating the space caused by tab characters \\t in a string\n",
    "text = \"\\tHello\\tWorld\\t!\"\n",
    "text.expandtabs(4) #Places a 4 space gap where \\t is located"
   ]
  },
  {
   "cell_type": "code",
   "execution_count": 64,
   "metadata": {},
   "outputs": [
    {
     "data": {
      "text/plain": [
       "4"
      ]
     },
     "execution_count": 64,
     "metadata": {},
     "output_type": "execute_result"
    }
   ],
   "source": [
    "#Searching character or substring in a string (Gives the index of its first occurence)\n",
    "text = \"Hello World\"\n",
    "text.find('o') "
   ]
  },
  {
   "cell_type": "code",
   "execution_count": 65,
   "metadata": {},
   "outputs": [
    {
     "data": {
      "text/plain": [
       "2"
      ]
     },
     "execution_count": 65,
     "metadata": {},
     "output_type": "execute_result"
    }
   ],
   "source": [
    "#Searching index of substring in a string\n",
    "text = \"MISSISSIPI\"\n",
    "text.find('SS')"
   ]
  },
  {
   "cell_type": "code",
   "execution_count": 66,
   "metadata": {},
   "outputs": [
    {
     "data": {
      "text/plain": [
       "True"
      ]
     },
     "execution_count": 66,
     "metadata": {},
     "output_type": "execute_result"
    }
   ],
   "source": [
    "#Searching if a substring exists in a string\n",
    "text = \"Hello World\"\n",
    "\"ello\" in text"
   ]
  },
  {
   "cell_type": "code",
   "execution_count": 67,
   "metadata": {},
   "outputs": [
    {
     "data": {
      "text/plain": [
       "2"
      ]
     },
     "execution_count": 67,
     "metadata": {},
     "output_type": "execute_result"
    }
   ],
   "source": [
    "#Alternative method for searching character or substring (Gives first index of occurence)\n",
    "text = \"Hello World\"\n",
    "text.index('l', 0, 6) #Finds first occurence of l in the substring \"Hello \""
   ]
  },
  {
   "cell_type": "code",
   "execution_count": 72,
   "metadata": {},
   "outputs": [
    {
     "data": {
      "text/plain": [
       "True"
      ]
     },
     "execution_count": 72,
     "metadata": {},
     "output_type": "execute_result"
    }
   ],
   "source": [
    "#Checking if string is alphanumeric\n",
    "'a9b'.isalnum() "
   ]
  },
  {
   "cell_type": "code",
   "execution_count": 73,
   "metadata": {},
   "outputs": [
    {
     "data": {
      "text/plain": [
       "True"
      ]
     },
     "execution_count": 73,
     "metadata": {},
     "output_type": "execute_result"
    }
   ],
   "source": [
    "#Checking if string is aplhabetic\n",
    "'axyz'.isalpha()"
   ]
  },
  {
   "cell_type": "code",
   "execution_count": 74,
   "metadata": {},
   "outputs": [
    {
     "data": {
      "text/plain": [
       "True"
      ]
     },
     "execution_count": 74,
     "metadata": {},
     "output_type": "execute_result"
    }
   ],
   "source": [
    "#Checking if string is ascii text\n",
    "'$_aA12'.isascii()"
   ]
  },
  {
   "cell_type": "code",
   "execution_count": 75,
   "metadata": {},
   "outputs": [
    {
     "data": {
      "text/plain": [
       "True"
      ]
     },
     "execution_count": 75,
     "metadata": {},
     "output_type": "execute_result"
    }
   ],
   "source": [
    "#Checking if the string is a decimal number\n",
    "'01439'.isdecimal()"
   ]
  },
  {
   "cell_type": "code",
   "execution_count": 76,
   "metadata": {},
   "outputs": [
    {
     "data": {
      "text/plain": [
       "True"
      ]
     },
     "execution_count": 76,
     "metadata": {},
     "output_type": "execute_result"
    }
   ],
   "source": [
    "#Checking if the string is a digit of any sort\n",
    "'01439'.isdigit()"
   ]
  },
  {
   "cell_type": "code",
   "execution_count": 78,
   "metadata": {},
   "outputs": [
    {
     "data": {
      "text/plain": [
       "True"
      ]
     },
     "execution_count": 78,
     "metadata": {},
     "output_type": "execute_result"
    }
   ],
   "source": [
    "#Checking if the string is an identifier\n",
    "'e_a12x'.isidentifier()"
   ]
  },
  {
   "cell_type": "code",
   "execution_count": 80,
   "metadata": {},
   "outputs": [
    {
     "data": {
      "text/plain": [
       "True"
      ]
     },
     "execution_count": 80,
     "metadata": {},
     "output_type": "execute_result"
    }
   ],
   "source": [
    "#Checking if the string is a keyword\n",
    "from keyword import iskeyword\n",
    "iskeyword('if')"
   ]
  },
  {
   "cell_type": "code",
   "execution_count": 82,
   "metadata": {},
   "outputs": [
    {
     "data": {
      "text/plain": [
       "True"
      ]
     },
     "execution_count": 82,
     "metadata": {},
     "output_type": "execute_result"
    }
   ],
   "source": [
    "#Checking if all characters of a string are lowercase\n",
    "text = \"hello world\"\n",
    "text.islower()"
   ]
  },
  {
   "cell_type": "code",
   "execution_count": 83,
   "metadata": {},
   "outputs": [
    {
     "data": {
      "text/plain": [
       "True"
      ]
     },
     "execution_count": 83,
     "metadata": {},
     "output_type": "execute_result"
    }
   ],
   "source": [
    "#Checking if all characters of a string are numeric\n",
    "text = \"039530948\"\n",
    "text.isnumeric()"
   ]
  },
  {
   "cell_type": "code",
   "execution_count": 84,
   "metadata": {},
   "outputs": [
    {
     "data": {
      "text/plain": [
       "True"
      ]
     },
     "execution_count": 84,
     "metadata": {},
     "output_type": "execute_result"
    }
   ],
   "source": [
    "#Checking if all characters of the string are printable\n",
    "text = \"wk45osg9\"\n",
    "text.isprintable()"
   ]
  },
  {
   "cell_type": "code",
   "execution_count": 87,
   "metadata": {},
   "outputs": [
    {
     "data": {
      "text/plain": [
       "True"
      ]
     },
     "execution_count": 87,
     "metadata": {},
     "output_type": "execute_result"
    }
   ],
   "source": [
    "#Checking if all characters are whitespace\n",
    "text = \"    \"\n",
    "text.isspace()"
   ]
  },
  {
   "cell_type": "code",
   "execution_count": 88,
   "metadata": {},
   "outputs": [
    {
     "data": {
      "text/plain": [
       "True"
      ]
     },
     "execution_count": 88,
     "metadata": {},
     "output_type": "execute_result"
    }
   ],
   "source": [
    "#Checking if the string is title based\n",
    "text = \"Hello World\"\n",
    "text.istitle()"
   ]
  },
  {
   "cell_type": "code",
   "execution_count": 89,
   "metadata": {},
   "outputs": [
    {
     "data": {
      "text/plain": [
       "True"
      ]
     },
     "execution_count": 89,
     "metadata": {},
     "output_type": "execute_result"
    }
   ],
   "source": [
    "#Checking if the string is uppercased\n",
    "text = \"HELLO WORLD\"\n",
    "text.isupper()"
   ]
  },
  {
   "cell_type": "code",
   "execution_count": 90,
   "metadata": {},
   "outputs": [
    {
     "data": {
      "text/plain": [
       "'banana'"
      ]
     },
     "execution_count": 90,
     "metadata": {},
     "output_type": "execute_result"
    }
   ],
   "source": [
    "#Concatenating Strings from Iterable\n",
    "textList = ['b','a','n','a','n','a']\n",
    "''.join(x for x in textList)"
   ]
  },
  {
   "cell_type": "code",
   "execution_count": 93,
   "metadata": {},
   "outputs": [
    {
     "data": {
      "text/plain": [
       "'Hello World***'"
      ]
     },
     "execution_count": 93,
     "metadata": {},
     "output_type": "execute_result"
    }
   ],
   "source": [
    "#Filling the specified text with special characters on the right\n",
    "text = \"Hello World\"\n",
    "text.ljust(len(text) + 3, '*')"
   ]
  },
  {
   "cell_type": "code",
   "execution_count": 94,
   "metadata": {},
   "outputs": [
    {
     "data": {
      "text/plain": [
       "'hello world'"
      ]
     },
     "execution_count": 94,
     "metadata": {},
     "output_type": "execute_result"
    }
   ],
   "source": [
    "#Convert characters of a string to lowercase\n",
    "text = \"HELLO WORLD\"\n",
    "text.lower()"
   ]
  },
  {
   "cell_type": "code",
   "execution_count": 100,
   "metadata": {},
   "outputs": [
    {
     "data": {
      "text/plain": [
       "'www.google.com'"
      ]
     },
     "execution_count": 100,
     "metadata": {},
     "output_type": "execute_result"
    }
   ],
   "source": [
    "#Remove characters from the left (returns a copy)\n",
    "text = \"https:\\\\www.google.com\"\n",
    "text.lstrip(\"hstp:\\\\\")"
   ]
  },
  {
   "cell_type": "code",
   "execution_count": 103,
   "metadata": {},
   "outputs": [
    {
     "name": "stdout",
     "output_type": "stream",
     "text": [
      "The Past Form of swim is: swam\n",
      "The Past Participle Form of swim is: swum\n"
     ]
    }
   ],
   "source": [
    "#Remove a prefix from the left\n",
    "pastTrans = ''.maketrans('i','a') #Creating a past form translation table\n",
    "pastPartTrans = ''.maketrans('i','u') #Creating a past participle form translation table\n",
    "text = 'swim'\n",
    "print('The Past Form of {} is: {}'.format(text, text.translate(pastTrans))) #Translates to past form\n",
    "print('The Past Participle Form of {} is: {}'.format(text, text.translate(pastPartTrans))) #Translates to past participle form"
   ]
  },
  {
   "cell_type": "code",
   "execution_count": 104,
   "metadata": {},
   "outputs": [
    {
     "data": {
      "text/plain": [
       "('How ', 'are', ' you?')"
      ]
     },
     "execution_count": 104,
     "metadata": {},
     "output_type": "execute_result"
    }
   ],
   "source": [
    "#Partiton string into a 3-tuple with the substring and its extremes\n",
    "text = \"How are you?\"\n",
    "text.partition('are')"
   ]
  },
  {
   "cell_type": "code",
   "execution_count": 108,
   "metadata": {},
   "outputs": [
    {
     "data": {
      "text/plain": [
       "'Hello Python'"
      ]
     },
     "execution_count": 108,
     "metadata": {},
     "output_type": "execute_result"
    }
   ],
   "source": [
    "#Replace characters in a string with some other characters\n",
    "text = \"Hello World\"\n",
    "text.replace(\"World\",\"Python\")"
   ]
  },
  {
   "cell_type": "code",
   "execution_count": 1,
   "metadata": {},
   "outputs": [
    {
     "data": {
      "text/plain": [
       "5"
      ]
     },
     "execution_count": 1,
     "metadata": {},
     "output_type": "execute_result"
    }
   ],
   "source": [
    "#Find the last occurence of a character or substring\n",
    "text = \"MISSISSIPI\"\n",
    "text.rfind(\"SS\")"
   ]
  },
  {
   "cell_type": "code",
   "execution_count": 2,
   "metadata": {},
   "outputs": [
    {
     "data": {
      "text/plain": [
       "5"
      ]
     },
     "execution_count": 2,
     "metadata": {},
     "output_type": "execute_result"
    }
   ],
   "source": [
    "#Alternative method for finding last occurence of character os substring\n",
    "text = \"MISSISSIPI\"\n",
    "text.rindex(\"SS\")"
   ]
  },
  {
   "cell_type": "code",
   "execution_count": 3,
   "metadata": {},
   "outputs": [
    {
     "data": {
      "text/plain": [
       "'***Hello World'"
      ]
     },
     "execution_count": 3,
     "metadata": {},
     "output_type": "execute_result"
    }
   ],
   "source": [
    "#Filling specified special characters on the left of given string\n",
    "text = \"Hello World\"\n",
    "text.rjust(len(text) + 3, '*')"
   ]
  },
  {
   "cell_type": "code",
   "execution_count": 5,
   "metadata": {},
   "outputs": [
    {
     "data": {
      "text/plain": [
       "(\"Don't seperate here but do \", 'seperate', ' here')"
      ]
     },
     "execution_count": 5,
     "metadata": {},
     "output_type": "execute_result"
    }
   ],
   "source": [
    "#Partitioning a string into 3-tuple from the last occurence of the substring\n",
    "text = \"Don't seperate here but do seperate here\"\n",
    "text.rpartition('seperate')"
   ]
  },
  {
   "cell_type": "code",
   "execution_count": 6,
   "metadata": {},
   "outputs": [
    {
     "data": {
      "text/plain": [
       "['First', ' Second', ' Third', ' Fourth', ' Fifth']"
      ]
     },
     "execution_count": 6,
     "metadata": {},
     "output_type": "execute_result"
    }
   ],
   "source": [
    "#Splitting a string into a list of substrings based on a seperator\n",
    "text = \"First, Second, Third, Fourth, Fifth\"\n",
    "text.rsplit(',')"
   ]
  },
  {
   "cell_type": "code",
   "execution_count": 7,
   "metadata": {},
   "outputs": [
    {
     "data": {
      "text/plain": [
       "'https:\\\\www.google.com'"
      ]
     },
     "execution_count": 7,
     "metadata": {},
     "output_type": "execute_result"
    }
   ],
   "source": [
    "#Removing characters from the right side of the string\n",
    "text = \"https:\\\\www.google.com.pk\"\n",
    "text.rstrip('kp.')"
   ]
  },
  {
   "cell_type": "code",
   "execution_count": 9,
   "metadata": {},
   "outputs": [
    {
     "name": "stdout",
     "output_type": "stream",
     "text": [
      "['First', ' Second', ' Third', ' Fourth', ' Fifth']\n",
      "['First', ' Second', ' Third', ' Fourth, Fifth']\n",
      "['First,', 'Second,', 'Third,', 'Fourth,', 'Fifth']\n"
     ]
    }
   ],
   "source": [
    "#Splitting a string into a list of substrings based on a seperator\n",
    "text = \"First, Second, Third, Fourth, Fifth\"\n",
    "print(text.split(',')) #Computes all possible splits\n",
    "print(text.split(',', 3)) #Computes only three splits\n",
    "print(text.split()) #Computes all possible splits using ' ' as seperator"
   ]
  },
  {
   "cell_type": "code",
   "execution_count": 11,
   "metadata": {},
   "outputs": [
    {
     "name": "stdout",
     "output_type": "stream",
     "text": [
      "['First', 'Second', 'Third', 'Fourth', 'Fifth']\n",
      "['First\\n', 'Second\\r', 'Third\\n', 'Fourth\\r\\n', 'Fifth']\n"
     ]
    }
   ],
   "source": [
    "#Split string based on line boundaries\n",
    "text = \"First\\nSecond\\rThird\\nFourth\\r\\nFifth\"\n",
    "print(text.splitlines()) #Split without the line boundaries\n",
    "print(text.splitlines(keepends = True)) #Split with line boundaries"
   ]
  },
  {
   "cell_type": "code",
   "execution_count": 12,
   "metadata": {},
   "outputs": [
    {
     "data": {
      "text/plain": [
       "True"
      ]
     },
     "execution_count": 12,
     "metadata": {},
     "output_type": "execute_result"
    }
   ],
   "source": [
    "#Check if a string starts with a certain character or substring\n",
    "text = \"https:\\\\www.google.com\"\n",
    "text.startswith('https:')"
   ]
  },
  {
   "cell_type": "code",
   "execution_count": 13,
   "metadata": {},
   "outputs": [
    {
     "data": {
      "text/plain": [
       "'Hello World'"
      ]
     },
     "execution_count": 13,
     "metadata": {},
     "output_type": "execute_result"
    }
   ],
   "source": [
    "#Removing character or substring from a string\n",
    "text = \"***Hello World***\"\n",
    "text.strip('*')"
   ]
  },
  {
   "cell_type": "code",
   "execution_count": 15,
   "metadata": {},
   "outputs": [
    {
     "data": {
      "text/plain": [
       "'Hello World'"
      ]
     },
     "execution_count": 15,
     "metadata": {},
     "output_type": "execute_result"
    }
   ],
   "source": [
    "#Convert lowercase to uppercase and uppercase to lowercase\n",
    "text = \"hELLO wORLD\"\n",
    "text.swapcase()"
   ]
  },
  {
   "cell_type": "code",
   "execution_count": 16,
   "metadata": {},
   "outputs": [
    {
     "data": {
      "text/plain": [
       "'Hello World'"
      ]
     },
     "execution_count": 16,
     "metadata": {},
     "output_type": "execute_result"
    }
   ],
   "source": [
    "#Create a titled case version of string\n",
    "text = \"hello world\"\n",
    "text.title()"
   ]
  },
  {
   "cell_type": "code",
   "execution_count": 17,
   "metadata": {},
   "outputs": [
    {
     "data": {
      "text/plain": [
       "'HELLO WORLD'"
      ]
     },
     "execution_count": 17,
     "metadata": {},
     "output_type": "execute_result"
    }
   ],
   "source": [
    "#Converts all characters of a string to uppercase\n",
    "text = \"hello world\"\n",
    "text.upper()"
   ]
  },
  {
   "cell_type": "code",
   "execution_count": 19,
   "metadata": {},
   "outputs": [
    {
     "data": {
      "text/plain": [
       "'+00034.56'"
      ]
     },
     "execution_count": 19,
     "metadata": {},
     "output_type": "execute_result"
    }
   ],
   "source": [
    "#Filling string with zeroes on the left based on specified width\n",
    "strNum = '+34.56'\n",
    "strNum.zfill(len(strNum) + 3) #Adds 3 zeroes to the left after + (or -) sign"
   ]
  },
  {
   "cell_type": "markdown",
   "metadata": {},
   "source": [
    "## Binary Sequences"
   ]
  },
  {
   "cell_type": "markdown",
   "metadata": {},
   "source": [
    "### Bytes Object\n",
    "Bytes object are immutable in nature and represent sequence of single bytes"
   ]
  },
  {
   "cell_type": "code",
   "execution_count": 20,
   "metadata": {},
   "outputs": [
    {
     "data": {
      "text/plain": [
       "b'Hello World'"
      ]
     },
     "execution_count": 20,
     "metadata": {},
     "output_type": "execute_result"
    }
   ],
   "source": [
    "#Creating a bytes object\n",
    "byte = b'Hello World'\n",
    "byte"
   ]
  },
  {
   "cell_type": "code",
   "execution_count": 25,
   "metadata": {},
   "outputs": [
    {
     "data": {
      "text/plain": [
       "b'B\\xe2\\x00\\x00'"
      ]
     },
     "execution_count": 25,
     "metadata": {},
     "output_type": "execute_result"
    }
   ],
   "source": [
    "#Creating a bytes object from a Hex string\n",
    "byte = bytes.fromhex('42E2 0000')\n",
    "byte"
   ]
  },
  {
   "cell_type": "code",
   "execution_count": 28,
   "metadata": {},
   "outputs": [
    {
     "name": "stdout",
     "output_type": "stream",
     "text": [
      "42e20000\n",
      "42-e2-00-00\n"
     ]
    }
   ],
   "source": [
    "#Getting hex value of a binary\n",
    "byte = b'B\\xe2\\x00\\x00'\n",
    "print(byte.hex()) #Without any byte seperator\n",
    "print(byte.hex('-')) #With byte seperator"
   ]
  },
  {
   "cell_type": "code",
   "execution_count": 29,
   "metadata": {},
   "outputs": [
    {
     "data": {
      "text/plain": [
       "[66, 226, 0, 0]"
      ]
     },
     "execution_count": 29,
     "metadata": {},
     "output_type": "execute_result"
    }
   ],
   "source": [
    "#Conversion of a bytes object into a list\n",
    "byte = b'B\\xe2\\x00\\x00'\n",
    "list(byte)"
   ]
  },
  {
   "cell_type": "markdown",
   "metadata": {},
   "source": [
    "### Bytearray Object\n",
    "Mutable version of the bytes object"
   ]
  },
  {
   "cell_type": "code",
   "execution_count": 33,
   "metadata": {},
   "outputs": [
    {
     "data": {
      "text/plain": [
       "bytearray(b'\\x00\\x00\\x00\\x00\\x00\\x00\\x00\\x00\\x00\\x00')"
      ]
     },
     "execution_count": 33,
     "metadata": {},
     "output_type": "execute_result"
    }
   ],
   "source": [
    "#Creating a bytearray (Always constructed using a constructor)\n",
    "byte = bytearray(10) #Creates a byte array of 0's of provided length\n",
    "byte"
   ]
  },
  {
   "cell_type": "code",
   "execution_count": 34,
   "metadata": {},
   "outputs": [
    {
     "data": {
      "text/plain": [
       "bytearray(b'B\\xe21\\xa0')"
      ]
     },
     "execution_count": 34,
     "metadata": {},
     "output_type": "execute_result"
    }
   ],
   "source": [
    "#Creating a bytearray from a hex value\n",
    "byte = bytearray.fromhex('42E2 31A0')\n",
    "byte"
   ]
  },
  {
   "cell_type": "code",
   "execution_count": 35,
   "metadata": {},
   "outputs": [
    {
     "data": {
      "text/plain": [
       "'42e231a0'"
      ]
     },
     "execution_count": 35,
     "metadata": {},
     "output_type": "execute_result"
    }
   ],
   "source": [
    "#Getting hex value from a bytesarray\n",
    "byte = bytearray(b'B\\xe21\\xa0')\n",
    "byte.hex()"
   ]
  },
  {
   "cell_type": "markdown",
   "metadata": {},
   "source": [
    "## Memory View Object\n",
    "Supports the objects of types __byte__ and __bytearray__ as well as other imported built-in objects such as __arrays__"
   ]
  },
  {
   "cell_type": "code",
   "execution_count": 41,
   "metadata": {},
   "outputs": [
    {
     "data": {
      "text/plain": [
       "<memory at 0x0000024797D2DB80>"
      ]
     },
     "execution_count": 41,
     "metadata": {},
     "output_type": "execute_result"
    }
   ],
   "source": [
    "#Creating a memoryview object from byte object\n",
    "view = memoryview(b'Hello World')\n",
    "view"
   ]
  },
  {
   "cell_type": "code",
   "execution_count": 42,
   "metadata": {},
   "outputs": [
    {
     "data": {
      "text/plain": [
       "101"
      ]
     },
     "execution_count": 42,
     "metadata": {},
     "output_type": "execute_result"
    }
   ],
   "source": [
    "#Viewing the value stored at the 1st index of memory view\n",
    "view[1]"
   ]
  },
  {
   "cell_type": "code",
   "execution_count": 43,
   "metadata": {},
   "outputs": [
    {
     "data": {
      "text/plain": [
       "100"
      ]
     },
     "execution_count": 43,
     "metadata": {},
     "output_type": "execute_result"
    }
   ],
   "source": [
    "#Viewing the value stored at the last index of memory view\n",
    "view[-1]"
   ]
  },
  {
   "cell_type": "code",
   "execution_count": 45,
   "metadata": {},
   "outputs": [
    {
     "data": {
      "text/plain": [
       "[72, 101, 108, 108, 111, 32, 87, 111, 114, 108, 100]"
      ]
     },
     "execution_count": 45,
     "metadata": {},
     "output_type": "execute_result"
    }
   ],
   "source": [
    "#Viewing the contents of a memoryview\n",
    "list(bytes(view[:]))"
   ]
  },
  {
   "cell_type": "code",
   "execution_count": 46,
   "metadata": {},
   "outputs": [
    {
     "data": {
      "text/plain": [
       "[72, 101, 108, 108, 111, 32, 87, 111, 114, 108, 100]"
      ]
     },
     "execution_count": 46,
     "metadata": {},
     "output_type": "execute_result"
    }
   ],
   "source": [
    "#Alternate way of creating a list of values containing content of memoryview \n",
    "view[:].tolist()"
   ]
  },
  {
   "cell_type": "code",
   "execution_count": 48,
   "metadata": {},
   "outputs": [
    {
     "data": {
      "text/plain": [
       "True"
      ]
     },
     "execution_count": 48,
     "metadata": {},
     "output_type": "execute_result"
    }
   ],
   "source": [
    "#Checking if memoryview is only readable or writable as well \n",
    "view.readonly"
   ]
  },
  {
   "cell_type": "code",
   "execution_count": 51,
   "metadata": {},
   "outputs": [
    {
     "data": {
      "text/plain": [
       "[72, 101, 108, 108, 111, 32, 87, 111, 114, 108, 100]"
      ]
     },
     "execution_count": 51,
     "metadata": {},
     "output_type": "execute_result"
    }
   ],
   "source": [
    "#Creating a writable memoryview\n",
    "bdata = bytearray(b'Hello World')\n",
    "view = memoryview(bdata)\n",
    "view.tolist()"
   ]
  },
  {
   "cell_type": "code",
   "execution_count": 54,
   "metadata": {},
   "outputs": [
    {
     "data": {
      "text/plain": [
       "bytearray(b'Hello Pythn')"
      ]
     },
     "execution_count": 54,
     "metadata": {},
     "output_type": "execute_result"
    }
   ],
   "source": [
    "#Replacing values in memoryview => Replaces values in the actual byte data\n",
    "view[6:] = b'Pythn'\n",
    "bdata #Checking data"
   ]
  },
  {
   "cell_type": "code",
   "execution_count": 55,
   "metadata": {},
   "outputs": [
    {
     "data": {
      "text/plain": [
       "b'Pythn'"
      ]
     },
     "execution_count": 55,
     "metadata": {},
     "output_type": "execute_result"
    }
   ],
   "source": [
    "#Convert memory object to bytes\n",
    "view[6:].tobytes()"
   ]
  },
  {
   "cell_type": "code",
   "execution_count": 56,
   "metadata": {},
   "outputs": [
    {
     "data": {
      "text/plain": [
       "'507974686e'"
      ]
     },
     "execution_count": 56,
     "metadata": {},
     "output_type": "execute_result"
    }
   ],
   "source": [
    "#Get hex value of a memoryview\n",
    "view[6:].hex()"
   ]
  },
  {
   "cell_type": "code",
   "execution_count": 57,
   "metadata": {},
   "outputs": [
    {
     "name": "stdout",
     "output_type": "stream",
     "text": [
      "[72, 101, 108, 108, 111, 32, 80, 121, 116, 104, 110]\n"
     ]
    },
    {
     "ename": "TypeError",
     "evalue": "cannot modify read-only memory",
     "output_type": "error",
     "traceback": [
      "\u001b[1;31m---------------------------------------------------------------------------\u001b[0m",
      "\u001b[1;31mTypeError\u001b[0m                                 Traceback (most recent call last)",
      "\u001b[1;32m<ipython-input-57-395c9d631d6d>\u001b[0m in \u001b[0;36m<module>\u001b[1;34m\u001b[0m\n\u001b[0;32m      4\u001b[0m \u001b[1;33m\u001b[0m\u001b[0m\n\u001b[0;32m      5\u001b[0m \u001b[1;31m#Trying to write value to new memoryview object\u001b[0m\u001b[1;33m\u001b[0m\u001b[1;33m\u001b[0m\u001b[1;33m\u001b[0m\u001b[0m\n\u001b[1;32m----> 6\u001b[1;33m \u001b[0mreadview\u001b[0m\u001b[1;33m[\u001b[0m\u001b[1;36m6\u001b[0m\u001b[1;33m:\u001b[0m\u001b[1;33m]\u001b[0m \u001b[1;33m=\u001b[0m \u001b[1;34mb'Hello'\u001b[0m\u001b[1;33m\u001b[0m\u001b[1;33m\u001b[0m\u001b[0m\n\u001b[0m\u001b[0;32m      7\u001b[0m \u001b[0mreadview\u001b[0m\u001b[1;33m[\u001b[0m\u001b[1;33m:\u001b[0m\u001b[1;33m]\u001b[0m\u001b[1;33m.\u001b[0m\u001b[0mtolist\u001b[0m\u001b[1;33m(\u001b[0m\u001b[1;33m)\u001b[0m\u001b[1;33m\u001b[0m\u001b[1;33m\u001b[0m\u001b[0m\n",
      "\u001b[1;31mTypeError\u001b[0m: cannot modify read-only memory"
     ]
    }
   ],
   "source": [
    "#Creating a readonly memoryview from a writable one\n",
    "readview = view[:].toreadonly()\n",
    "print(readview.tolist())\n",
    "\n",
    "#Trying to write value to new memoryview object\n",
    "readview[6:] = b'Hello'\n",
    "readview[:].tolist()"
   ]
  },
  {
   "cell_type": "code",
   "execution_count": 65,
   "metadata": {},
   "outputs": [
    {
     "data": {
      "text/plain": [
       "bytearray(b'Aello World')"
      ]
     },
     "execution_count": 65,
     "metadata": {},
     "output_type": "execute_result"
    }
   ],
   "source": [
    "#Applying type casting from one type to other\n",
    "bdata = bytearray(b'Hello World')\n",
    "view = memoryview(bdata)\n",
    "# view[0] = b'A' (Invalid) \n",
    "castview = view.cast('c') #Convert bytes into char object\n",
    "castview[0] = b'A'\n",
    "bdata #Checking changes in data"
   ]
  },
  {
   "cell_type": "code",
   "execution_count": 66,
   "metadata": {},
   "outputs": [
    {
     "data": {
      "text/plain": [
       "True"
      ]
     },
     "execution_count": 66,
     "metadata": {},
     "output_type": "execute_result"
    }
   ],
   "source": [
    "#Checking the underlying object mapped on a particular memoryview\n",
    "castview.obj is bdata"
   ]
  },
  {
   "cell_type": "code",
   "execution_count": 67,
   "metadata": {},
   "outputs": [
    {
     "name": "stdout",
     "output_type": "stream",
     "text": [
      "5\n",
      "20\n",
      "4.0\n"
     ]
    }
   ],
   "source": [
    "#Checking number of bytes occupied by a memoryview\n",
    "from array import array\n",
    "A = array('i', [1,2,3,4,5]) #Creating an integer array\n",
    "m = memoryview(A) #Creating memoryview object of array\n",
    "print(len(A)) #Gives length of the array\n",
    "print(m.nbytes) #Gives total space occupied by the memoryview object\n",
    "print(m.nbytes/len(A)) #Gives the space allocated by the specific datatype"
   ]
  },
  {
   "cell_type": "code",
   "execution_count": 70,
   "metadata": {},
   "outputs": [
    {
     "data": {
      "text/plain": [
       "'c'"
      ]
     },
     "execution_count": 70,
     "metadata": {},
     "output_type": "execute_result"
    }
   ],
   "source": [
    "#Gives the format being used for a memoryview\n",
    "castview.format"
   ]
  },
  {
   "cell_type": "code",
   "execution_count": 73,
   "metadata": {},
   "outputs": [
    {
     "data": {
      "text/plain": [
       "4"
      ]
     },
     "execution_count": 73,
     "metadata": {},
     "output_type": "execute_result"
    }
   ],
   "source": [
    "#Get the item size of each element of the memoryview\n",
    "m.itemsize"
   ]
  },
  {
   "cell_type": "code",
   "execution_count": 74,
   "metadata": {},
   "outputs": [
    {
     "data": {
      "text/plain": [
       "1"
      ]
     },
     "execution_count": 74,
     "metadata": {},
     "output_type": "execute_result"
    }
   ],
   "source": [
    "#Get the number of dimensions for the memoryview\n",
    "m.ndim"
   ]
  },
  {
   "cell_type": "code",
   "execution_count": 76,
   "metadata": {},
   "outputs": [
    {
     "data": {
      "text/plain": [
       "(5,)"
      ]
     },
     "execution_count": 76,
     "metadata": {},
     "output_type": "execute_result"
    }
   ],
   "source": [
    "#Get the shape of memoryview as N-dim array (Gives a tuple)\n",
    "m.shape"
   ]
  },
  {
   "cell_type": "code",
   "execution_count": 77,
   "metadata": {},
   "outputs": [
    {
     "data": {
      "text/plain": [
       "(4,)"
      ]
     },
     "execution_count": 77,
     "metadata": {},
     "output_type": "execute_result"
    }
   ],
   "source": [
    "#Get the size in bytes needed to access each element in the memoryview dimension\n",
    "m.strides"
   ]
  },
  {
   "cell_type": "code",
   "execution_count": 78,
   "metadata": {},
   "outputs": [
    {
     "data": {
      "text/plain": [
       "True"
      ]
     },
     "execution_count": 78,
     "metadata": {},
     "output_type": "execute_result"
    }
   ],
   "source": [
    "#Check if memory is C based contiguous\n",
    "m.c_contiguous"
   ]
  },
  {
   "cell_type": "code",
   "execution_count": 79,
   "metadata": {},
   "outputs": [
    {
     "data": {
      "text/plain": [
       "True"
      ]
     },
     "execution_count": 79,
     "metadata": {},
     "output_type": "execute_result"
    }
   ],
   "source": [
    "#Check if memory is Fortran based contiguous\n",
    "m.f_contiguous"
   ]
  },
  {
   "cell_type": "code",
   "execution_count": 80,
   "metadata": {},
   "outputs": [
    {
     "data": {
      "text/plain": [
       "True"
      ]
     },
     "execution_count": 80,
     "metadata": {},
     "output_type": "execute_result"
    }
   ],
   "source": [
    "#Check if the memory allocated in memoryview is contiguous\n",
    "m.contiguous"
   ]
  },
  {
   "cell_type": "markdown",
   "metadata": {},
   "source": [
    "# Functions"
   ]
  },
  {
   "cell_type": "code",
   "execution_count": 73,
   "metadata": {},
   "outputs": [
    {
     "name": "stdout",
     "output_type": "stream",
     "text": [
      "Hello World\n"
     ]
    }
   ],
   "source": [
    "#Function with no parameters and no return value \n",
    "def printHello():\n",
    "    print(\"Hello World\")\n",
    "    \n",
    "#Calling the function\n",
    "printHello()"
   ]
  },
  {
   "cell_type": "code",
   "execution_count": 74,
   "metadata": {},
   "outputs": [
    {
     "name": "stdout",
     "output_type": "stream",
     "text": [
      "The number: 5\n"
     ]
    }
   ],
   "source": [
    "#Function with parameter and no return value\n",
    "def printNumber(num): #Need to provide an argument value for num which will be used by the function\n",
    "    print(\"The number: {}\".format(num))\n",
    "    \n",
    "#Calling the function\n",
    "printNumber(5) #Uses the value num = 5"
   ]
  },
  {
   "cell_type": "code",
   "execution_count": 75,
   "metadata": {},
   "outputs": [
    {
     "name": "stdout",
     "output_type": "stream",
     "text": [
      "Hello\n"
     ]
    }
   ],
   "source": [
    "#Function with no parameter but a return value\n",
    "def returnHello(): #Need no arguments \n",
    "    return \"Hello\" #Returns the string \"Hello\" which can be stored in some other variable(unlike print() which displays only)\n",
    "\n",
    "#Calling the function\n",
    "msg = returnHello() #String returned by function gets stored in msg\n",
    "print(msg) #Displays the value of msg as output"
   ]
  },
  {
   "cell_type": "code",
   "execution_count": 76,
   "metadata": {},
   "outputs": [
    {
     "data": {
      "text/plain": [
       "120"
      ]
     },
     "execution_count": 76,
     "metadata": {},
     "output_type": "execute_result"
    }
   ],
   "source": [
    "#Function with parameter and return value\n",
    "def fact(n): #Needs an argument value num, representing the number whose factorial is to be found\n",
    "    fact = 1\n",
    "    for i in range(1, n+1): #Uses the fact that n! = n * (n - 1) * (n - 2) * ... * 3 * 2 * 1\n",
    "        fact *= i\n",
    "        \n",
    "    return fact #Return the value fact which can be stored in some other varialle\n",
    "\n",
    "#Calling the factorial function\n",
    "fact(5) #Computing the factorial of 5"
   ]
  },
  {
   "cell_type": "code",
   "execution_count": 79,
   "metadata": {},
   "outputs": [
    {
     "name": "stdout",
     "output_type": "stream",
     "text": [
      "The sum of 2 and 5 is: 7\n",
      "The product of 2 and 5 is: 10\n"
     ]
    }
   ],
   "source": [
    "#Using Default Argument Values\n",
    "def calc(num1, num2, operator='+'): #Contains a default argument operator = '+'\n",
    "    if operator == '+':\n",
    "        return num1 + num2\n",
    "    elif operator == '-':\n",
    "        return num1 - num2\n",
    "    elif operator == '*':\n",
    "        return num1 * num2\n",
    "    elif operator == '/':\n",
    "        return num1 / num2\n",
    "    else:\n",
    "        raise ValueError(\"Invalid Operator for the Method\")\n",
    "        \n",
    "#Calling the function\n",
    "num1, num2 = 2, 5\n",
    "print(\"The sum of {0} and {1} is: {2}\".format(num1, num2, calc(num1, num2))) #Opeartor = '+' by default\n",
    "print(\"The product of {0} and {1} is: {2}\".format(num1, num2, calc(num1, num2, '*'))) #Provide operator if other than '+'"
   ]
  },
  {
   "cell_type": "code",
   "execution_count": 80,
   "metadata": {},
   "outputs": [
    {
     "data": {
      "text/plain": [
       "5"
      ]
     },
     "execution_count": 80,
     "metadata": {},
     "output_type": "execute_result"
    }
   ],
   "source": [
    "#One thing to note about default arguments is that their value is taken at the time of function declaration \n",
    "#in case of variable value\n",
    "argVal = 5 #Storing value 5 in argVal\n",
    "\n",
    "#Declaring the function\n",
    "def returnVal(value = argVal):\n",
    "    return value\n",
    "\n",
    "argVal = 6 #Storing value 6 in argVal\n",
    "\n",
    "#Calling the function\n",
    "returnVal() #Returns 5, as it was stored as the default value (it doesnt matter variable's value got changed afterwards)"
   ]
  },
  {
   "cell_type": "code",
   "execution_count": 81,
   "metadata": {},
   "outputs": [
    {
     "data": {
      "text/plain": [
       "[5, 3, 4]"
      ]
     },
     "execution_count": 81,
     "metadata": {},
     "output_type": "execute_result"
    }
   ],
   "source": [
    "#The above case for default values holds only in case of immutable objects, for mutable one this can change\n",
    "argVal = [2,3,4]\n",
    "\n",
    "#Declaring the function\n",
    "def returnVal(value = argVal):\n",
    "    return value\n",
    "\n",
    "argVal[0] = 5 #Changes the first index value from 2 to 5\n",
    "\n",
    "#Calling the function\n",
    "returnVal()"
   ]
  },
  {
   "cell_type": "markdown",
   "metadata": {},
   "source": [
    "### Keyword Arguments\n",
    "For functions with more than one default arguments, we can call them by the specific argument value for a certain default argument, known as \"Keyword Argument\". This is indicated as under:"
   ]
  },
  {
   "cell_type": "code",
   "execution_count": 2,
   "metadata": {},
   "outputs": [
    {
     "name": "stdout",
     "output_type": "stream",
     "text": [
      "56.99999999999999\n",
      "84.66666666666667\n",
      "73.2\n",
      "48.8\n"
     ]
    }
   ],
   "source": [
    "def getPerc(marks, totalMarks = 100, Paperno = 1):\n",
    "    #Computes the percentage for the specified number of papers\n",
    "    return sum(marks)/(totalMarks * Paperno) * 100\n",
    "\n",
    "#Computing percentage\n",
    "print(getPerc([57])) #Getting percentage of a single paper with totalMarks 100\n",
    "print(getPerc([15, 30, 34, 48], 150)) #Getting percentage of a single paper with totalMarks 150\n",
    "print(getPerc([57, 75, 56, 91, 87], Paperno = 5)) #Getting percentage of 5 papers each with totalMarks 100\n",
    "print(getPerc([57, 75, 56, 91, 87], 150, 5)) #Getting percentage of 5 papers each with totalMarks 150"
   ]
  },
  {
   "cell_type": "code",
   "execution_count": 5,
   "metadata": {},
   "outputs": [
    {
     "name": "stdout",
     "output_type": "stream",
     "text": [
      "15\n",
      "166\n"
     ]
    }
   ],
   "source": [
    "#Using the * in parameters\n",
    "def sumList(*args): #*args allows to pack all the provided arguments to the function into a tuple value\n",
    "    argList = list(args)\n",
    "    return sum(argList)\n",
    "\n",
    "#Computing the sum of a parameters (Works for different number of parameters)\n",
    "print(sumList(1,2,3,4,5))\n",
    "print(sumList(34,56,76))"
   ]
  },
  {
   "cell_type": "code",
   "execution_count": 9,
   "metadata": {},
   "outputs": [
    {
     "data": {
      "text/plain": [
       "15"
      ]
     },
     "execution_count": 9,
     "metadata": {},
     "output_type": "execute_result"
    }
   ],
   "source": [
    "#Using the ** in parameters\n",
    "def sumDict(*args, **kwargs): #**kwargs allows to pack keyword arguments provided to the function into a dictionary pair\n",
    "    dictSum = 0\n",
    "    for k,v in kwargs.items(): #Gets the values from the keys of the dictionary\n",
    "        dictSum += v\n",
    "        \n",
    "    return dictSum #Returns the sum of all values stored in the keys of a dicitonary\n",
    "        \n",
    "sumDict(a=2, b=3, c=4, d=6) "
   ]
  },
  {
   "cell_type": "markdown",
   "metadata": {},
   "source": [
    "### Keyword Parameters\n",
    "These allow to define positional-only, positional/keyword and keyword-only type arguments"
   ]
  },
  {
   "cell_type": "code",
   "execution_count": 10,
   "metadata": {},
   "outputs": [
    {
     "name": "stdout",
     "output_type": "stream",
     "text": [
      "15\n",
      "15\n"
     ]
    }
   ],
   "source": [
    "#Function with all kinds of parameter passing (either positional or keyword)\n",
    "def sumList(args):\n",
    "    return sum(args)\n",
    "\n",
    "#Calling the Function\n",
    "print(sumList([1,2,3,4,5])) #Call using positional argument value\n",
    "print(sumList(args = [1,2,3,4,5])) #Call using keyword argument value"
   ]
  },
  {
   "cell_type": "code",
   "execution_count": 11,
   "metadata": {},
   "outputs": [
    {
     "name": "stdout",
     "output_type": "stream",
     "text": [
      "15\n"
     ]
    },
    {
     "ename": "TypeError",
     "evalue": "sumList() got some positional-only arguments passed as keyword arguments: 'args'",
     "output_type": "error",
     "traceback": [
      "\u001b[1;31m---------------------------------------------------------------------------\u001b[0m",
      "\u001b[1;31mTypeError\u001b[0m                                 Traceback (most recent call last)",
      "\u001b[1;32m<ipython-input-11-9ab9ac16e4a7>\u001b[0m in \u001b[0;36m<module>\u001b[1;34m\u001b[0m\n\u001b[0;32m      5\u001b[0m \u001b[1;31m#Calling the Function\u001b[0m\u001b[1;33m\u001b[0m\u001b[1;33m\u001b[0m\u001b[1;33m\u001b[0m\u001b[0m\n\u001b[0;32m      6\u001b[0m \u001b[0mprint\u001b[0m\u001b[1;33m(\u001b[0m\u001b[0msumList\u001b[0m\u001b[1;33m(\u001b[0m\u001b[1;33m[\u001b[0m\u001b[1;36m1\u001b[0m\u001b[1;33m,\u001b[0m\u001b[1;36m2\u001b[0m\u001b[1;33m,\u001b[0m\u001b[1;36m3\u001b[0m\u001b[1;33m,\u001b[0m\u001b[1;36m4\u001b[0m\u001b[1;33m,\u001b[0m\u001b[1;36m5\u001b[0m\u001b[1;33m]\u001b[0m\u001b[1;33m)\u001b[0m\u001b[1;33m)\u001b[0m \u001b[1;31m#Call using positional argument value\u001b[0m\u001b[1;33m\u001b[0m\u001b[1;33m\u001b[0m\u001b[0m\n\u001b[1;32m----> 7\u001b[1;33m \u001b[0mprint\u001b[0m\u001b[1;33m(\u001b[0m\u001b[0msumList\u001b[0m\u001b[1;33m(\u001b[0m\u001b[0margs\u001b[0m \u001b[1;33m=\u001b[0m \u001b[1;33m[\u001b[0m\u001b[1;36m1\u001b[0m\u001b[1;33m,\u001b[0m\u001b[1;36m2\u001b[0m\u001b[1;33m,\u001b[0m\u001b[1;36m3\u001b[0m\u001b[1;33m,\u001b[0m\u001b[1;36m4\u001b[0m\u001b[1;33m,\u001b[0m\u001b[1;36m5\u001b[0m\u001b[1;33m]\u001b[0m\u001b[1;33m)\u001b[0m\u001b[1;33m)\u001b[0m \u001b[1;31m#Call using keyword argument value\u001b[0m\u001b[1;33m\u001b[0m\u001b[1;33m\u001b[0m\u001b[0m\n\u001b[0m",
      "\u001b[1;31mTypeError\u001b[0m: sumList() got some positional-only arguments passed as keyword arguments: 'args'"
     ]
    }
   ],
   "source": [
    "#Function with only positional parameter passing \n",
    "def sumList(args, /):\n",
    "    return sum(args)\n",
    "\n",
    "#Calling the Function\n",
    "print(sumList([1,2,3,4,5])) #Call using positional argument value\n",
    "print(sumList(args = [1,2,3,4,5])) #Call using keyword argument value"
   ]
  },
  {
   "cell_type": "code",
   "execution_count": 12,
   "metadata": {},
   "outputs": [
    {
     "name": "stdout",
     "output_type": "stream",
     "text": [
      "15\n"
     ]
    },
    {
     "ename": "TypeError",
     "evalue": "sumList() takes 0 positional arguments but 1 was given",
     "output_type": "error",
     "traceback": [
      "\u001b[1;31m---------------------------------------------------------------------------\u001b[0m",
      "\u001b[1;31mTypeError\u001b[0m                                 Traceback (most recent call last)",
      "\u001b[1;32m<ipython-input-12-0c6b9a2969d1>\u001b[0m in \u001b[0;36m<module>\u001b[1;34m\u001b[0m\n\u001b[0;32m      5\u001b[0m \u001b[1;31m#Calling the Function\u001b[0m\u001b[1;33m\u001b[0m\u001b[1;33m\u001b[0m\u001b[1;33m\u001b[0m\u001b[0m\n\u001b[0;32m      6\u001b[0m \u001b[0mprint\u001b[0m\u001b[1;33m(\u001b[0m\u001b[0msumList\u001b[0m\u001b[1;33m(\u001b[0m\u001b[0margs\u001b[0m \u001b[1;33m=\u001b[0m \u001b[1;33m[\u001b[0m\u001b[1;36m1\u001b[0m\u001b[1;33m,\u001b[0m\u001b[1;36m2\u001b[0m\u001b[1;33m,\u001b[0m\u001b[1;36m3\u001b[0m\u001b[1;33m,\u001b[0m\u001b[1;36m4\u001b[0m\u001b[1;33m,\u001b[0m\u001b[1;36m5\u001b[0m\u001b[1;33m]\u001b[0m\u001b[1;33m)\u001b[0m\u001b[1;33m)\u001b[0m \u001b[1;31m#Call using keyword argument value\u001b[0m\u001b[1;33m\u001b[0m\u001b[1;33m\u001b[0m\u001b[0m\n\u001b[1;32m----> 7\u001b[1;33m \u001b[0mprint\u001b[0m\u001b[1;33m(\u001b[0m\u001b[0msumList\u001b[0m\u001b[1;33m(\u001b[0m\u001b[1;33m[\u001b[0m\u001b[1;36m1\u001b[0m\u001b[1;33m,\u001b[0m\u001b[1;36m2\u001b[0m\u001b[1;33m,\u001b[0m\u001b[1;36m3\u001b[0m\u001b[1;33m,\u001b[0m\u001b[1;36m4\u001b[0m\u001b[1;33m,\u001b[0m\u001b[1;36m5\u001b[0m\u001b[1;33m]\u001b[0m\u001b[1;33m)\u001b[0m\u001b[1;33m)\u001b[0m \u001b[1;31m#Call using positional argument value\u001b[0m\u001b[1;33m\u001b[0m\u001b[1;33m\u001b[0m\u001b[0m\n\u001b[0m",
      "\u001b[1;31mTypeError\u001b[0m: sumList() takes 0 positional arguments but 1 was given"
     ]
    }
   ],
   "source": [
    "#Function with only keyword parameter passing\n",
    "def sumList(*, args):\n",
    "    return sum(args)\n",
    "\n",
    "#Calling the Function\n",
    "print(sumList(args = [1,2,3,4,5])) #Call using keyword argument value\n",
    "print(sumList([1,2,3,4,5])) #Call using positional argument value"
   ]
  },
  {
   "cell_type": "code",
   "execution_count": 13,
   "metadata": {},
   "outputs": [
    {
     "name": "stdout",
     "output_type": "stream",
     "text": [
      "45\n",
      "45\n"
     ]
    }
   ],
   "source": [
    "#Function making use of all the cases\n",
    "def sumList(pos_list, /, std_list, *, kw_list):\n",
    "    return sum(pos_list) + sum(std_list) + sum(kw_list)\n",
    "\n",
    "#Calling the function\n",
    "print(sumList([1,2,3], [4,5,6,7], kw_list=[8,9])) #Using standard area as positional-argument\n",
    "print(sumList([1,2,3], std_list = [4,5,6,7], kw_list=[8,9])) #Using standard area as keyword-argument"
   ]
  },
  {
   "cell_type": "markdown",
   "metadata": {},
   "source": [
    "### Lambda Expressions\n",
    "These are small one-liner functions that can compute the result efficiently using the __lambda__ keyword"
   ]
  },
  {
   "cell_type": "code",
   "execution_count": 15,
   "metadata": {},
   "outputs": [
    {
     "name": "stdout",
     "output_type": "stream",
     "text": [
      "[('b', 7), ('c', 9), ('d', 11), ('a', 12)]\n"
     ]
    }
   ],
   "source": [
    "#Lambda function to sort items of a tuple list based on its second value\n",
    "items = [('a',12), ('b',7), ('c',9), ('d',11)]\n",
    "\n",
    "items.sort(key = lambda x: x[1]) #x represents each data item in the items list\n",
    "\n",
    "print(items)"
   ]
  },
  {
   "cell_type": "markdown",
   "metadata": {},
   "source": [
    "### Function Annotations:\n",
    "Represents the various data types being used by the function"
   ]
  },
  {
   "cell_type": "code",
   "execution_count": 16,
   "metadata": {},
   "outputs": [
    {
     "name": "stdout",
     "output_type": "stream",
     "text": [
      "Function Annotations: \n",
      " {'name': <class 'str'>, 'age': <class 'int'>, 'salary': <class 'float'>, 'return': <class 'str'>}\n"
     ]
    },
    {
     "data": {
      "text/plain": [
       "'Name: ABC, Age: 24, Salary: 35000'"
      ]
     },
     "execution_count": 16,
     "metadata": {},
     "output_type": "execute_result"
    }
   ],
   "source": [
    "#We define the annotations for the function i.e. what types it uses\n",
    "def returnInfo(name: str, age: int, salary: float) -> str:\n",
    "    print(\"Function Annotations: \\n {}\".format(returnInfo.__annotations__))\n",
    "    return \"Name: {0}, Age: {1}, Salary: {2}\".format(name, age, salary)\n",
    "\n",
    "#Calling the Function\n",
    "returnInfo(\"ABC\", 24, 35000)"
   ]
  },
  {
   "cell_type": "markdown",
   "metadata": {},
   "source": [
    "# Namespaces and Scopes:"
   ]
  },
  {
   "cell_type": "code",
   "execution_count": 2,
   "metadata": {},
   "outputs": [
    {
     "name": "stdout",
     "output_type": "stream",
     "text": [
      "After local assignment: Spam Test\n",
      "After non-local assignment: nonlocal spam\n",
      "After global assignment: nonlocal spam\n",
      "in global scope  global spam\n"
     ]
    }
   ],
   "source": [
    "def scope_test():\n",
    "    def do_local():\n",
    "        spam = \"local spam\"\n",
    "    def do_nonlocal():\n",
    "        nonlocal spam\n",
    "        spam = \"nonlocal spam\"\n",
    "    def do_global():\n",
    "        global spam\n",
    "        spam = \"global spam\"\n",
    "        \n",
    "        \n",
    "    spam = \"Spam Test\"\n",
    "    do_local()\n",
    "    print(\"After local assignment: {}\".format(spam))\n",
    "    do_nonlocal()\n",
    "    print(\"After non-local assignment: {}\".format(spam))\n",
    "    do_global()\n",
    "    print(\"After global assignment: {}\".format(spam))\n",
    "    \n",
    "scope_test()\n",
    "print(\"in global scope \", spam)"
   ]
  },
  {
   "cell_type": "markdown",
   "metadata": {},
   "source": [
    "# Classes"
   ]
  },
  {
   "cell_type": "code",
   "execution_count": 4,
   "metadata": {},
   "outputs": [
    {
     "data": {
      "text/plain": [
       "'Hello World'"
      ]
     },
     "execution_count": 4,
     "metadata": {},
     "output_type": "execute_result"
    }
   ],
   "source": [
    "#Creating a simple class object\n",
    "class newClass: #Creates a new class\n",
    "    attr = 123 #Assigns value 123 to attribute attr of the class (public by default)\n",
    "    \n",
    "    def attrVal(self): #Create a class method that points to the a class object\n",
    "        return \"Hello World\" #Returns the message \"Hello World\" when method is called\n",
    "    \n",
    "#Now using this class\n",
    "newInstance = newClass() #Creates an instance of the defined class\n",
    "newInstance.attrVal() #Calls the attrVal() method for the class instance"
   ]
  },
  {
   "cell_type": "code",
   "execution_count": 7,
   "metadata": {},
   "outputs": [
    {
     "data": {
      "text/plain": [
       "123"
      ]
     },
     "execution_count": 7,
     "metadata": {},
     "output_type": "execute_result"
    }
   ],
   "source": [
    "#Suppose we want to return the attr value, then we need to define the attr as an attribute for all class objects \n",
    "#such that when the need for call arises, all the class objects know what it means (define it in class local scope)\n",
    "class newClass: \n",
    "    def __init__(self): #Serves as a constructor that initializes attribute values for the class objects\n",
    "        self.attr = 123 #Assigns the value to an attribute of the class object\n",
    "    \n",
    "    #Suppose we want to return the attr value, we can make use of nonlocal value attr in the classmethod\n",
    "    def attrVal(self): \n",
    "        return self.attr #Returns the value of the attribute of the class object\n",
    "    \n",
    "#Now using this class\n",
    "newInstance = newClass() \n",
    "newInstance.attrVal() "
   ]
  },
  {
   "cell_type": "code",
   "execution_count": 9,
   "metadata": {},
   "outputs": [
    {
     "name": "stdout",
     "output_type": "stream",
     "text": [
      "The name of the instance created is: ABC\n",
      "The age of the instance created is: 7\n"
     ]
    }
   ],
   "source": [
    "#Suppose we want to create a class in which the constructor takes values from user when creating the class object\n",
    "class newClass:\n",
    "    def __init__(self, name, age): #Takes user parameters name and age\n",
    "        self.name = name #Assigns the name argument value to a class object's name attribute\n",
    "        self.age = age #Assigns the age argument value to a class object's age attribute\n",
    "        \n",
    "#Using the class\n",
    "newInstance = newClass(\"ABC\", 7) #Providing argument values for the constructor method\n",
    "print(\"The name of the instance created is: {}\".format(newInstance.name)) #Class attributes can be accessed as they are public\n",
    "print(\"The age of the instance created is: {}\".format(newInstance.age)) #Class attributes can be accessed as they are public"
   ]
  },
  {
   "cell_type": "code",
   "execution_count": 20,
   "metadata": {},
   "outputs": [
    {
     "name": "stdout",
     "output_type": "stream",
     "text": [
      "Name: ABC Dept: CSIT\n",
      "Name: XYZ Dept: CSIT\n"
     ]
    }
   ],
   "source": [
    "#Creating shared class variables (Values that are shared by all class instances)\n",
    "class Student:\n",
    "    dept = \"CSIT\" #This remains same for all the student instances\n",
    "    \n",
    "    def __init__(self, name):\n",
    "        self.name = name #This depends upon the argument value provided to constructor when creating student instance\n",
    "        \n",
    "#Using the class\n",
    "std1 = Student(\"ABC\")\n",
    "std2 = Student(\"XYZ\")\n",
    "print(\"Name: {} Dept: {}\".format(std1.name, std1.dept))\n",
    "print(\"Name: {} Dept: {}\".format(std2.name, std2.dept))"
   ]
  },
  {
   "cell_type": "code",
   "execution_count": 23,
   "metadata": {},
   "outputs": [
    {
     "data": {
      "text/plain": [
       "'ABC'"
      ]
     },
     "execution_count": 23,
     "metadata": {},
     "output_type": "execute_result"
    }
   ],
   "source": [
    "#Using functions defined outside class as class methods\n",
    "\n",
    "def getName(self, name): #Creating a class method outside the class\n",
    "    return name\n",
    "\n",
    "class Student:\n",
    "    def __init__(self, name): #Constructor takes a single argument 'name'\n",
    "        self.name = name\n",
    "        \n",
    "    getStudName = getName #Declaration of the function defined outside class\n",
    "    \n",
    "#Creating instance of Student class\n",
    "std = Student(\"ABC\") \n",
    "std.getStudName(std.name) #Use the name of student as an argument value to the declared class method"
   ]
  },
  {
   "cell_type": "code",
   "execution_count": 24,
   "metadata": {},
   "outputs": [
    {
     "data": {
      "text/plain": [
       "['ABC', 'XYZ', 'XYZ']"
      ]
     },
     "execution_count": 24,
     "metadata": {},
     "output_type": "execute_result"
    }
   ],
   "source": [
    "#Using methods within other methods\n",
    "class ClassStudents:\n",
    "    def __init__(self):\n",
    "        self.nameList = [] #Creates a list attribute for the class\n",
    "        \n",
    "    def addStud(self, name):\n",
    "        self.nameList.append(name) #Adds the provided argument name value into the nameList\n",
    "        \n",
    "    def addStudTwice(self, name): #Adds the provided argument name value twice in the list by calling addStud() method twice\n",
    "        self.addStud(name) \n",
    "        self.addStud(name)\n",
    "        \n",
    "#Creating instance of Student class\n",
    "newClass = ClassStudents()\n",
    "newClass.addStud(\"ABC\")\n",
    "newClass.addStudTwice(\"XYZ\")\n",
    "newClass.nameList"
   ]
  },
  {
   "cell_type": "markdown",
   "metadata": {},
   "source": [
    "### Inheritence "
   ]
  },
  {
   "cell_type": "code",
   "execution_count": 29,
   "metadata": {},
   "outputs": [
    {
     "name": "stdout",
     "output_type": "stream",
     "text": [
      "I am child\n",
      "This is my Parent\n",
      "I am parent\n"
     ]
    }
   ],
   "source": [
    "#Single Class Inheritence\n",
    "class Parent:\n",
    "    def returnParent(self): #Returns the message for a Parent object\n",
    "        return \"I am parent\"\n",
    "\n",
    "class Child(Parent):\n",
    "    def returnParent(self): #Overloading function defined in Parent class\n",
    "        return \"This is my Parent\"\n",
    "    \n",
    "    def returnChild(self): #Returns the message for a Child object\n",
    "        return \"I am child\"\n",
    "    \n",
    "#Creating instance\n",
    "child = Child()\n",
    "print(child.returnChild())\n",
    "print(child.returnParent())\n",
    "print(Parent().returnParent())"
   ]
  },
  {
   "cell_type": "code",
   "execution_count": 31,
   "metadata": {},
   "outputs": [
    {
     "name": "stdout",
     "output_type": "stream",
     "text": [
      "I have Ferrari\n",
      "I sleep at night\n",
      "I eat in day\n",
      "I have ethical values\n",
      "I am brave\n"
     ]
    }
   ],
   "source": [
    "#Multiple Inheritence\n",
    "class Human:\n",
    "    def sleep(self):\n",
    "        return \"I sleep at night\"\n",
    "    def eat(self):\n",
    "        return \"I eat in day\"\n",
    "    \n",
    "class WellMannered:\n",
    "    def ethics(self):\n",
    "        return \"I have ethical values\"\n",
    "    \n",
    "class Man:\n",
    "    def brave(self):\n",
    "        return \"I am brave\"\n",
    "    \n",
    "class GentleMan(Human, WellMannered, Man):\n",
    "    def car(self):\n",
    "        return \"I have Ferrari\"\n",
    "    \n",
    "gm = GentleMan()\n",
    "print(gm.car())\n",
    "print(gm.sleep())\n",
    "print(gm.eat())\n",
    "print(gm.ethics())\n",
    "print(gm.brave())"
   ]
  },
  {
   "cell_type": "markdown",
   "metadata": {},
   "source": [
    "### Name Mangling\n",
    "Allows to define identifier such that no clashing occurs with same identifier name in base class"
   ]
  },
  {
   "cell_type": "code",
   "execution_count": 49,
   "metadata": {},
   "outputs": [
    {
     "name": "stdout",
     "output_type": "stream",
     "text": [
      "['1', '2']\n",
      "[('1', 3), ('2', 4)]\n"
     ]
    }
   ],
   "source": [
    "class Mapping:\n",
    "    def __init__(self, iterable):\n",
    "        self.item_list = []\n",
    "    \n",
    "    def update(self, iterable):\n",
    "        for item in iterable:\n",
    "            self.item_list.append(item)\n",
    "            \n",
    "class MappingSubClass(Mapping):\n",
    "    def update(self, keys, values):\n",
    "        for item in zip(keys, values):\n",
    "            self.item_list.append(item)\n",
    "\n",
    "#Using the MappingClass \n",
    "newsubmap = Mapping(iter({'1':5, '3':7}))\n",
    "newsubmap.update(iter({'1':3, '2':4})) #Refers to the _Mapping__update() method\n",
    "print(newsubmap.item_list)\n",
    "            \n",
    "#Using the MappingSubClass\n",
    "newsubmap = MappingSubClass(iter({'1':5, '3':7}))\n",
    "newsubmap.update(['1','2'], [3,4]) #Refers to the _MappingSubClass__update() method\n",
    "print(newsubmap.item_list)"
   ]
  },
  {
   "cell_type": "markdown",
   "metadata": {},
   "source": [
    "### Using Empty Classes as Records"
   ]
  },
  {
   "cell_type": "code",
   "execution_count": 51,
   "metadata": {},
   "outputs": [
    {
     "name": "stdout",
     "output_type": "stream",
     "text": [
      "ABC studies in CSIT and is in FE year\n",
      "XYZ studies in ME and is in TE year\n"
     ]
    }
   ],
   "source": [
    "class Student: #Empty class to maintain records\n",
    "    pass\n",
    "\n",
    "#Create a new student instance\n",
    "std1 = Student()\n",
    "\n",
    "#Filling info regarding student\n",
    "std1.name = \"ABC\"\n",
    "std1.dept = \"CSIT\"\n",
    "std1.year = \"FE\"\n",
    "\n",
    "#Create another student instance\n",
    "std2 = Student()\n",
    "\n",
    "#Filling info regarding student\n",
    "std2.name = \"XYZ\"\n",
    "std2.dept = \"ME\"\n",
    "std2.year = \"TE\"\n",
    "\n",
    "#Getting info about the students\n",
    "print(\"{} studies in {} and is in {} year\".format(std1.name, std1.dept, std1.year))\n",
    "print(\"{} studies in {} and is in {} year\".format(std2.name, std2.dept, std2.year))"
   ]
  },
  {
   "cell_type": "markdown",
   "metadata": {},
   "source": [
    "# Iterators:\n",
    "Iterators are the basic principle on which all looping constructs are built in Python"
   ]
  },
  {
   "cell_type": "code",
   "execution_count": 52,
   "metadata": {},
   "outputs": [
    {
     "data": {
      "text/plain": [
       "<list_iterator at 0x1cd6101e0d0>"
      ]
     },
     "execution_count": 52,
     "metadata": {},
     "output_type": "execute_result"
    }
   ],
   "source": [
    "#Creating an iterator\n",
    "listIter = iter([1, 2, 3, 4]) #Creates an iterator object of a list\n",
    "listIter"
   ]
  },
  {
   "cell_type": "code",
   "execution_count": 54,
   "metadata": {},
   "outputs": [
    {
     "name": "stdout",
     "output_type": "stream",
     "text": [
      "1\n",
      "2\n",
      "3\n",
      "4\n"
     ]
    }
   ],
   "source": [
    "#To move forward in the iterator, we use the next() method\n",
    "print(next(listIter)) #Displays 1\n",
    "print(next(listIter)) #Displays 2\n",
    "print(next(listIter)) #Displays 3\n",
    "print(next(listIter)) #Displays 4"
   ]
  },
  {
   "cell_type": "code",
   "execution_count": 55,
   "metadata": {},
   "outputs": [
    {
     "ename": "StopIteration",
     "evalue": "",
     "output_type": "error",
     "traceback": [
      "\u001b[1;31m---------------------------------------------------------------------------\u001b[0m",
      "\u001b[1;31mStopIteration\u001b[0m                             Traceback (most recent call last)",
      "\u001b[1;32m<ipython-input-55-e97e0c7f9b0f>\u001b[0m in \u001b[0;36m<module>\u001b[1;34m\u001b[0m\n\u001b[0;32m      1\u001b[0m \u001b[1;31m#When all elements of an iterator are finished, it gives a StopIteration exception\u001b[0m\u001b[1;33m\u001b[0m\u001b[1;33m\u001b[0m\u001b[1;33m\u001b[0m\u001b[0m\n\u001b[1;32m----> 2\u001b[1;33m \u001b[0mprint\u001b[0m\u001b[1;33m(\u001b[0m\u001b[0mnext\u001b[0m\u001b[1;33m(\u001b[0m\u001b[0mlistIter\u001b[0m\u001b[1;33m)\u001b[0m\u001b[1;33m)\u001b[0m\u001b[1;33m\u001b[0m\u001b[1;33m\u001b[0m\u001b[0m\n\u001b[0m",
      "\u001b[1;31mStopIteration\u001b[0m: "
     ]
    }
   ],
   "source": [
    "#When all elements of an iterator are finished, it gives a StopIteration exception\n",
    "print(next(listIter))"
   ]
  },
  {
   "cell_type": "code",
   "execution_count": 58,
   "metadata": {},
   "outputs": [
    {
     "name": "stdout",
     "output_type": "stream",
     "text": [
      "5\n",
      "4\n",
      "3\n",
      "2\n",
      "1\n"
     ]
    },
    {
     "ename": "StopIteration",
     "evalue": "",
     "output_type": "error",
     "traceback": [
      "\u001b[1;31m---------------------------------------------------------------------------\u001b[0m",
      "\u001b[1;31mStopIteration\u001b[0m                             Traceback (most recent call last)",
      "\u001b[1;32m<ipython-input-58-14ed1c87a302>\u001b[0m in \u001b[0;36m<module>\u001b[1;34m\u001b[0m\n\u001b[0;32m     23\u001b[0m \u001b[0mprint\u001b[0m\u001b[1;33m(\u001b[0m\u001b[0mnext\u001b[0m\u001b[1;33m(\u001b[0m\u001b[0mreverseIter\u001b[0m\u001b[1;33m)\u001b[0m\u001b[1;33m)\u001b[0m \u001b[1;31m#Displays 2\u001b[0m\u001b[1;33m\u001b[0m\u001b[1;33m\u001b[0m\u001b[0m\n\u001b[0;32m     24\u001b[0m \u001b[0mprint\u001b[0m\u001b[1;33m(\u001b[0m\u001b[0mnext\u001b[0m\u001b[1;33m(\u001b[0m\u001b[0mreverseIter\u001b[0m\u001b[1;33m)\u001b[0m\u001b[1;33m)\u001b[0m \u001b[1;31m#Displays 1\u001b[0m\u001b[1;33m\u001b[0m\u001b[1;33m\u001b[0m\u001b[0m\n\u001b[1;32m---> 25\u001b[1;33m \u001b[0mprint\u001b[0m\u001b[1;33m(\u001b[0m\u001b[0mnext\u001b[0m\u001b[1;33m(\u001b[0m\u001b[0mreverseIter\u001b[0m\u001b[1;33m)\u001b[0m\u001b[1;33m)\u001b[0m \u001b[1;31m#Returns the Stop Iteration Exception\u001b[0m\u001b[1;33m\u001b[0m\u001b[1;33m\u001b[0m\u001b[0m\n\u001b[0m",
      "\u001b[1;32m<ipython-input-58-14ed1c87a302>\u001b[0m in \u001b[0;36m__next__\u001b[1;34m(self)\u001b[0m\n\u001b[0;32m     11\u001b[0m     \u001b[1;32mdef\u001b[0m \u001b[0m__next__\u001b[0m\u001b[1;33m(\u001b[0m\u001b[0mself\u001b[0m\u001b[1;33m)\u001b[0m\u001b[1;33m:\u001b[0m\u001b[1;33m\u001b[0m\u001b[1;33m\u001b[0m\u001b[0m\n\u001b[0;32m     12\u001b[0m         \u001b[1;32mif\u001b[0m \u001b[0mself\u001b[0m\u001b[1;33m.\u001b[0m\u001b[0mindex\u001b[0m \u001b[1;33m==\u001b[0m \u001b[1;36m0\u001b[0m\u001b[1;33m:\u001b[0m \u001b[1;31m#If index goes to 0, then raise the StopIteration exception\u001b[0m\u001b[1;33m\u001b[0m\u001b[1;33m\u001b[0m\u001b[0m\n\u001b[1;32m---> 13\u001b[1;33m             \u001b[1;32mraise\u001b[0m \u001b[0mStopIteration\u001b[0m\u001b[1;33m\u001b[0m\u001b[1;33m\u001b[0m\u001b[0m\n\u001b[0m\u001b[0;32m     14\u001b[0m         \u001b[0mself\u001b[0m\u001b[1;33m.\u001b[0m\u001b[0mindex\u001b[0m \u001b[1;33m-=\u001b[0m \u001b[1;36m1\u001b[0m \u001b[1;31m#Decrement index for each next() call\u001b[0m\u001b[1;33m\u001b[0m\u001b[1;33m\u001b[0m\u001b[0m\n\u001b[0;32m     15\u001b[0m         \u001b[1;32mreturn\u001b[0m \u001b[0mself\u001b[0m\u001b[1;33m.\u001b[0m\u001b[0miterable\u001b[0m\u001b[1;33m[\u001b[0m\u001b[0mself\u001b[0m\u001b[1;33m.\u001b[0m\u001b[0mindex\u001b[0m\u001b[1;33m]\u001b[0m \u001b[1;31m#Return the value of item stored at the index of the iterable\u001b[0m\u001b[1;33m\u001b[0m\u001b[1;33m\u001b[0m\u001b[0m\n",
      "\u001b[1;31mStopIteration\u001b[0m: "
     ]
    }
   ],
   "source": [
    "#Creating an iterator that reads the items of a container in reverse order\n",
    "class ReverseIterator:\n",
    "    \n",
    "    def __init__(self, iterable): #Constructor takes an iterable(container that can be iterated)\n",
    "        self.iterable = iterable \n",
    "        self.index = len(iterable) #Set the index as the last value of iterable + 1\n",
    "        \n",
    "    def __iter__(self):\n",
    "        return self #Returns the ReverseIterator oject itself\n",
    "    \n",
    "    def __next__(self): \n",
    "        if self.index == 0: #If index goes to 0, then raise the StopIteration exception\n",
    "            raise StopIteration\n",
    "        self.index -= 1 #Decrement index for each next() call\n",
    "        return self.iterable[self.index] #Return the value of item stored at the index of the iterable\n",
    "    \n",
    "#Using the reverse iterator \n",
    "reverseIter = ReverseIterator([1,2,3,4,5]) #Creates a reverseIterator for the list container\n",
    "iter(reverseIter) #Returns the iterator object\n",
    "print(next(reverseIter)) #Displays 5\n",
    "print(next(reverseIter)) #Displays 4\n",
    "print(next(reverseIter)) #Displays 3\n",
    "print(next(reverseIter)) #Displays 2\n",
    "print(next(reverseIter)) #Displays 1\n",
    "print(next(reverseIter)) #Returns the Stop Iteration Exception"
   ]
  },
  {
   "cell_type": "markdown",
   "metadata": {},
   "source": [
    "# Generators:\n",
    "Generators allows to make iterators easily from containers, using the yield statement "
   ]
  },
  {
   "cell_type": "code",
   "execution_count": 59,
   "metadata": {},
   "outputs": [
    {
     "name": "stdout",
     "output_type": "stream",
     "text": [
      "1\n",
      "2\n",
      "3\n",
      "4\n",
      "5\n"
     ]
    }
   ],
   "source": [
    "#Creating a simple generator to loop through values of an iterable\n",
    "def iterGenerator(iterable): \n",
    "    for index in range(len(iterable)): \n",
    "        yield iterable[index] #Returns the data item at the index in the iterable \n",
    "\n",
    "#Using generator function on a list iterable\n",
    "for item in iterGenerator([1,2,3,4,5]):\n",
    "    print(item) #Prints items from the iterable without causing any StopIteration exceptions as it is pre-defined "
   ]
  },
  {
   "cell_type": "code",
   "execution_count": 61,
   "metadata": {},
   "outputs": [
    {
     "name": "stdout",
     "output_type": "stream",
     "text": [
      "5\n",
      "4\n",
      "3\n",
      "2\n",
      "1\n"
     ]
    }
   ],
   "source": [
    "#Creating a reverse generator to loop through values of an iterable in reverse order\n",
    "def reverseGenerator(iterable):\n",
    "    for index in range(len(iterable) - 1, -1, -1): #Runs from len(iterable) - 1 (last index) to 0\n",
    "        yield iterable[index] #Returns the data item at the index in the iterable\n",
    "        \n",
    "#Using generator function on a list iterable\n",
    "for item in reverseGenerator([1,2,3,4,5]):\n",
    "    print(item) #Prints items from the iterable in reverse order without any StopIteration execption"
   ]
  },
  {
   "cell_type": "markdown",
   "metadata": {},
   "source": [
    "## Generator Expressions:\n",
    "Generator Expressions allow to perform iterations over various iterables and give a quick fast result. Same as list comprehensions but with () brackets instead of []"
   ]
  },
  {
   "cell_type": "code",
   "execution_count": 62,
   "metadata": {},
   "outputs": [
    {
     "data": {
      "text/plain": [
       "[0, 1, 4, 9, 16, 25, 36, 49, 64, 81, 100]"
      ]
     },
     "execution_count": 62,
     "metadata": {},
     "output_type": "execute_result"
    }
   ],
   "source": [
    "#Generator expression for a list to get a list of square values from 0 to 10\n",
    "list(x**2 for x in range(11))"
   ]
  },
  {
   "cell_type": "code",
   "execution_count": 63,
   "metadata": {},
   "outputs": [
    {
     "data": {
      "text/plain": [
       "{0, 1, 4, 9, 16, 25, 36, 49, 64, 81, 100}"
      ]
     },
     "execution_count": 63,
     "metadata": {},
     "output_type": "execute_result"
    }
   ],
   "source": [
    "#Generator expression for a set to get a set of square values from 0 to 10\n",
    "set(x**2 for x in range(11))"
   ]
  },
  {
   "cell_type": "code",
   "execution_count": 64,
   "metadata": {},
   "outputs": [
    {
     "data": {
      "text/plain": [
       "(0, 1, 4, 9, 16, 25, 36, 49, 64, 81, 100)"
      ]
     },
     "execution_count": 64,
     "metadata": {},
     "output_type": "execute_result"
    }
   ],
   "source": [
    "#Generator expression for a tuple to get a set of square values from 0 to 10\n",
    "tuple(x**2 for x in range(11))"
   ]
  },
  {
   "cell_type": "code",
   "execution_count": 66,
   "metadata": {},
   "outputs": [
    {
     "name": "stdout",
     "output_type": "stream",
     "text": [
      "1.45 ms ± 302 µs per loop (mean ± std. dev. of 7 runs, 1000 loops each)\n",
      "1.27 ms ± 367 µs per loop (mean ± std. dev. of 7 runs, 1000 loops each)\n"
     ]
    }
   ],
   "source": [
    "#Comparing generator expressions with list comprehensions\n",
    "%timeit [x**2 for x in range(1000)] #List Comprehension\n",
    "%timeit list(x**2 for x in range(1000)) #Generator Expression"
   ]
  },
  {
   "cell_type": "code",
   "execution_count": null,
   "metadata": {},
   "outputs": [],
   "source": []
  }
 ],
 "metadata": {
  "kernelspec": {
   "display_name": "Python 3",
   "language": "python",
   "name": "python3"
  },
  "language_info": {
   "codemirror_mode": {
    "name": "ipython",
    "version": 3
   },
   "file_extension": ".py",
   "mimetype": "text/x-python",
   "name": "python",
   "nbconvert_exporter": "python",
   "pygments_lexer": "ipython3",
   "version": "3.8.2"
  }
 },
 "nbformat": 4,
 "nbformat_minor": 4
}
